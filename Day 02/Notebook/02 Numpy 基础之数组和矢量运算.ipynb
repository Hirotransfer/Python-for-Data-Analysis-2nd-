{
 "cells": [
  {
   "cell_type": "code",
   "execution_count": 1,
   "metadata": {},
   "outputs": [],
   "source": [
    "import numpy as np\n",
    "np.random.seed(2019)\n",
    "import matplotlib.pyplot as plt\n",
    "plt.rc('figure', figsize=(10, 6))\n",
    "np.set_printoptions(precision=4, suppress=True)"
   ]
  },
  {
   "cell_type": "code",
   "execution_count": 2,
   "metadata": {},
   "outputs": [],
   "source": [
    "import numpy as np\n",
    "my_arr = np.arange(1000000)\n",
    "my_list = list(range(1000000))"
   ]
  },
  {
   "cell_type": "code",
   "execution_count": 3,
   "metadata": {},
   "outputs": [
    {
     "name": "stdout",
     "output_type": "stream",
     "text": [
      "Wall time: 60 ms\n"
     ]
    }
   ],
   "source": [
    "%time for _ in range(10): my_arr2 = my_arr * 2"
   ]
  },
  {
   "cell_type": "code",
   "execution_count": 4,
   "metadata": {},
   "outputs": [
    {
     "name": "stdout",
     "output_type": "stream",
     "text": [
      "Wall time: 1.98 s\n"
     ]
    }
   ],
   "source": [
    "%time for _ in range(10): my_list2 = [x * 2 for x in my_list]"
   ]
  },
  {
   "cell_type": "markdown",
   "metadata": {},
   "source": [
    "### 2.1 Numpy 之 ndarray：多维数组对象"
   ]
  },
  {
   "cell_type": "markdown",
   "metadata": {},
   "source": [
    "###### 创建 ndarray"
   ]
  },
  {
   "cell_type": "code",
   "execution_count": 5,
   "metadata": {},
   "outputs": [
    {
     "data": {
      "text/plain": [
       "array([6. , 7.5, 8. , 0. , 1. ])"
      ]
     },
     "execution_count": 5,
     "metadata": {},
     "output_type": "execute_result"
    }
   ],
   "source": [
    "data1 = [6, 7.5, 8, 0, 1]\n",
    "arr1 = np.array(data1)\n",
    "arr1"
   ]
  },
  {
   "cell_type": "code",
   "execution_count": 6,
   "metadata": {},
   "outputs": [
    {
     "data": {
      "text/plain": [
       "array([[1, 2, 3, 4],\n",
       "       [5, 6, 7, 8]])"
      ]
     },
     "execution_count": 6,
     "metadata": {},
     "output_type": "execute_result"
    }
   ],
   "source": [
    "data2 = [[1, 2, 3, 4], [5, 6, 7, 8]]\n",
    "arr2 = np.array(data2)\n",
    "arr2"
   ]
  },
  {
   "cell_type": "code",
   "execution_count": 7,
   "metadata": {},
   "outputs": [
    {
     "data": {
      "text/plain": [
       "2"
      ]
     },
     "execution_count": 7,
     "metadata": {},
     "output_type": "execute_result"
    }
   ],
   "source": [
    "arr2.ndim"
   ]
  },
  {
   "cell_type": "code",
   "execution_count": 8,
   "metadata": {},
   "outputs": [
    {
     "data": {
      "text/plain": [
       "(2, 4)"
      ]
     },
     "execution_count": 8,
     "metadata": {},
     "output_type": "execute_result"
    }
   ],
   "source": [
    "arr2.shape"
   ]
  },
  {
   "cell_type": "code",
   "execution_count": 9,
   "metadata": {},
   "outputs": [
    {
     "data": {
      "text/plain": [
       "dtype('float64')"
      ]
     },
     "execution_count": 9,
     "metadata": {},
     "output_type": "execute_result"
    }
   ],
   "source": [
    "arr1.dtype"
   ]
  },
  {
   "cell_type": "code",
   "execution_count": 10,
   "metadata": {},
   "outputs": [
    {
     "data": {
      "text/plain": [
       "dtype('int32')"
      ]
     },
     "execution_count": 10,
     "metadata": {},
     "output_type": "execute_result"
    }
   ],
   "source": [
    "arr2.dtype"
   ]
  },
  {
   "cell_type": "code",
   "execution_count": 11,
   "metadata": {},
   "outputs": [
    {
     "name": "stdout",
     "output_type": "stream",
     "text": [
      "[0. 0. 0. 0. 0. 0. 0. 0. 0. 0.]\n",
      "[[0. 0. 0. 0. 0. 0.]\n",
      " [0. 0. 0. 0. 0. 0.]\n",
      " [0. 0. 0. 0. 0. 0.]]\n",
      "[[[0. 0.]\n",
      "  [0. 0.]\n",
      "  [0. 0.]]\n",
      "\n",
      " [[0. 0.]\n",
      "  [0. 0.]\n",
      "  [0. 0.]]]\n"
     ]
    }
   ],
   "source": [
    "print(np.zeros(10))\n",
    "print(np.zeros((3, 6)))\n",
    "print(np.empty((2, 3, 2)))"
   ]
  },
  {
   "cell_type": "code",
   "execution_count": 12,
   "metadata": {},
   "outputs": [
    {
     "data": {
      "text/plain": [
       "array([ 0,  1,  2,  3,  4,  5,  6,  7,  8,  9, 10, 11, 12, 13, 14])"
      ]
     },
     "execution_count": 12,
     "metadata": {},
     "output_type": "execute_result"
    }
   ],
   "source": [
    "np.arange(15)"
   ]
  },
  {
   "cell_type": "markdown",
   "metadata": {},
   "source": [
    "<!--ARRAY-->\n",
    "<img align=\"center\" style=\"padding-right:10px;\" src=\"array.png\">"
   ]
  },
  {
   "cell_type": "markdown",
   "metadata": {},
   "source": [
    "###### ndarray 的 数据类型"
   ]
  },
  {
   "cell_type": "code",
   "execution_count": 13,
   "metadata": {},
   "outputs": [
    {
     "name": "stdout",
     "output_type": "stream",
     "text": [
      "float64\n",
      "int32\n"
     ]
    }
   ],
   "source": [
    "arr1 = np.array([1, 2, 3], dtype=np.float64)\n",
    "arr2 = np.array([1, 2, 3], dtype=np.int32)\n",
    "print(arr1.dtype)\n",
    "print(arr2.dtype)"
   ]
  },
  {
   "cell_type": "code",
   "execution_count": 14,
   "metadata": {},
   "outputs": [
    {
     "name": "stdout",
     "output_type": "stream",
     "text": [
      "int32\n",
      "float64\n"
     ]
    }
   ],
   "source": [
    "arr = np.array([1, 2, 3, 4, 5])\n",
    "print(arr.dtype)\n",
    "float_arr = arr.astype(np.float64)\n",
    "print(float_arr.dtype)"
   ]
  },
  {
   "cell_type": "code",
   "execution_count": 15,
   "metadata": {},
   "outputs": [
    {
     "name": "stdout",
     "output_type": "stream",
     "text": [
      "[ 3.7 -1.2 -2.6  0.5 12.9 10.1]\n"
     ]
    },
    {
     "data": {
      "text/plain": [
       "array([ 3, -1, -2,  0, 12, 10])"
      ]
     },
     "execution_count": 15,
     "metadata": {},
     "output_type": "execute_result"
    }
   ],
   "source": [
    "arr = np.array([3.7, -1.2, -2.6, 0.5, 12.9, 10.1])\n",
    "print(arr)\n",
    "arr.astype(np.int32)"
   ]
  },
  {
   "cell_type": "code",
   "execution_count": 16,
   "metadata": {},
   "outputs": [
    {
     "name": "stdout",
     "output_type": "stream",
     "text": [
      "[b'1.25' b'-9.6' b'42']\n"
     ]
    },
    {
     "data": {
      "text/plain": [
       "array([ 1.25, -9.6 , 42.  ])"
      ]
     },
     "execution_count": 16,
     "metadata": {},
     "output_type": "execute_result"
    }
   ],
   "source": [
    "numeric_strings = np.array(['1.25', '-9.6', '42'], dtype=np.string_)\n",
    "print(numeric_strings)\n",
    "numeric_strings.astype(float)"
   ]
  },
  {
   "cell_type": "code",
   "execution_count": 20,
   "metadata": {},
   "outputs": [
    {
     "data": {
      "text/plain": [
       "array([0, 1, 2, 3, 4, 5, 6, 7, 8, 9])"
      ]
     },
     "execution_count": 20,
     "metadata": {},
     "output_type": "execute_result"
    }
   ],
   "source": [
    "int_array = np.arange(10)\n",
    "int_array"
   ]
  },
  {
   "cell_type": "code",
   "execution_count": 21,
   "metadata": {},
   "outputs": [
    {
     "data": {
      "text/plain": [
       "array([0., 1., 2., 3., 4., 5., 6., 7., 8., 9.])"
      ]
     },
     "execution_count": 21,
     "metadata": {},
     "output_type": "execute_result"
    }
   ],
   "source": [
    "calibers = np.array([.22, .270, .357, .380, .44, .50], dtype=np.float64)\n",
    "# calibers\n",
    "int_array.astype(calibers.dtype)"
   ]
  },
  {
   "cell_type": "code",
   "execution_count": 22,
   "metadata": {},
   "outputs": [
    {
     "data": {
      "text/plain": [
       "array([         0, 1075314688,          0, 1075707904,          0,\n",
       "       1075838976,          0, 1072693248], dtype=uint32)"
      ]
     },
     "execution_count": 22,
     "metadata": {},
     "output_type": "execute_result"
    }
   ],
   "source": [
    "empty_uint32 = np.empty(8, dtype='u4')\n",
    "empty_uint32"
   ]
  },
  {
   "cell_type": "markdown",
   "metadata": {},
   "source": [
    "###### Note!\n",
    "调用 **astype** 总会创建一个新的数组（一个数据的备份），即使新的 **dtype** 与旧的 **dtype** 相同"
   ]
  },
  {
   "cell_type": "markdown",
   "metadata": {},
   "source": [
    "###### Numpy 数组运算"
   ]
  },
  {
   "cell_type": "code",
   "execution_count": 23,
   "metadata": {},
   "outputs": [
    {
     "name": "stdout",
     "output_type": "stream",
     "text": [
      "[[1. 2. 3.]\n",
      " [4. 5. 6.]]\n",
      "[[ 1.  4.  9.]\n",
      " [16. 25. 36.]]\n",
      "[[0. 0. 0.]\n",
      " [0. 0. 0.]]\n"
     ]
    }
   ],
   "source": [
    "arr = np.array([[1., 2., 3.], [4., 5., 6.]])\n",
    "print(arr)\n",
    "print(arr * arr)\n",
    "print(arr - arr)"
   ]
  },
  {
   "cell_type": "code",
   "execution_count": 24,
   "metadata": {},
   "outputs": [
    {
     "name": "stdout",
     "output_type": "stream",
     "text": [
      "[[1.     0.5    0.3333]\n",
      " [0.25   0.2    0.1667]]\n"
     ]
    },
    {
     "data": {
      "text/plain": [
       "array([[1.    , 1.4142, 1.7321],\n",
       "       [2.    , 2.2361, 2.4495]])"
      ]
     },
     "execution_count": 24,
     "metadata": {},
     "output_type": "execute_result"
    }
   ],
   "source": [
    "print(1 / arr)\n",
    "arr ** 0.5"
   ]
  },
  {
   "cell_type": "markdown",
   "metadata": {},
   "source": [
    "###### 大小相同的数组之间的比较会生成布尔值数组"
   ]
  },
  {
   "cell_type": "code",
   "execution_count": 25,
   "metadata": {},
   "outputs": [
    {
     "data": {
      "text/plain": [
       "array([[ 0.,  4.,  1.],\n",
       "       [ 7.,  2., 12.]])"
      ]
     },
     "execution_count": 25,
     "metadata": {},
     "output_type": "execute_result"
    }
   ],
   "source": [
    "arr2 = np.array([[0., 4., 1.], [7., 2., 12.]])\n",
    "arr2"
   ]
  },
  {
   "cell_type": "code",
   "execution_count": 26,
   "metadata": {},
   "outputs": [
    {
     "data": {
      "text/plain": [
       "array([[False,  True, False],\n",
       "       [ True, False,  True]])"
      ]
     },
     "execution_count": 26,
     "metadata": {},
     "output_type": "execute_result"
    }
   ],
   "source": [
    "arr2 > arr"
   ]
  },
  {
   "cell_type": "markdown",
   "metadata": {},
   "source": [
    "不同大小的数组之间的运算叫做 **广播**（broadcasting）"
   ]
  },
  {
   "cell_type": "markdown",
   "metadata": {},
   "source": [
    "### 基本的 索引 和 切片"
   ]
  },
  {
   "cell_type": "code",
   "execution_count": 1,
   "metadata": {},
   "outputs": [
    {
     "data": {
      "text/plain": [
       "array([0, 1, 2, 3, 4, 5, 6, 7, 8, 9])"
      ]
     },
     "execution_count": 1,
     "metadata": {},
     "output_type": "execute_result"
    }
   ],
   "source": [
    "import numpy as np\n",
    "arr = np.arange(10)\n",
    "arr"
   ]
  },
  {
   "cell_type": "code",
   "execution_count": 2,
   "metadata": {},
   "outputs": [
    {
     "data": {
      "text/plain": [
       "0"
      ]
     },
     "execution_count": 2,
     "metadata": {},
     "output_type": "execute_result"
    }
   ],
   "source": [
    "arr[0]"
   ]
  },
  {
   "cell_type": "code",
   "execution_count": 3,
   "metadata": {},
   "outputs": [
    {
     "data": {
      "text/plain": [
       "array([3])"
      ]
     },
     "execution_count": 3,
     "metadata": {},
     "output_type": "execute_result"
    }
   ],
   "source": [
    "arr[3:4]"
   ]
  },
  {
   "cell_type": "code",
   "execution_count": 4,
   "metadata": {},
   "outputs": [
    {
     "data": {
      "text/plain": [
       "array([0, 1, 2, 3, 4, 7, 6, 7, 8, 9])"
      ]
     },
     "execution_count": 4,
     "metadata": {},
     "output_type": "execute_result"
    }
   ],
   "source": [
    "arr[5:6] = 7\n",
    "arr"
   ]
  },
  {
   "cell_type": "code",
   "execution_count": 5,
   "metadata": {},
   "outputs": [
    {
     "data": {
      "text/plain": [
       "array([ 0,  1,  2,  3,  4, 12, 12, 12,  8,  9])"
      ]
     },
     "execution_count": 5,
     "metadata": {},
     "output_type": "execute_result"
    }
   ],
   "source": [
    "arr[5:8] = 12\n",
    "arr"
   ]
  },
  {
   "cell_type": "code",
   "execution_count": 6,
   "metadata": {},
   "outputs": [
    {
     "data": {
      "text/plain": [
       "array([12, 12, 12])"
      ]
     },
     "execution_count": 6,
     "metadata": {},
     "output_type": "execute_result"
    }
   ],
   "source": [
    "arr_slice = arr[5:8]\n",
    "arr_slice"
   ]
  },
  {
   "cell_type": "code",
   "execution_count": 7,
   "metadata": {},
   "outputs": [
    {
     "data": {
      "text/plain": [
       "array([  0,   1,   2,   3,   4,  12, 123,  12,   8,   9])"
      ]
     },
     "execution_count": 7,
     "metadata": {},
     "output_type": "execute_result"
    }
   ],
   "source": [
    "arr_slice[1] = 123\n",
    "arr"
   ]
  },
  {
   "cell_type": "markdown",
   "metadata": {},
   "source": [
    "### Note\n",
    "与 **列表** 不同的是，数组切片是原始数组的 **视图**，也就是说，数据不会被复制，视图上的任何修改都会直接反映到源数组上"
   ]
  },
  {
   "cell_type": "code",
   "execution_count": 8,
   "metadata": {},
   "outputs": [
    {
     "data": {
      "text/plain": [
       "array([ 0,  1,  2,  3,  4, 66, 66, 66,  8,  9])"
      ]
     },
     "execution_count": 8,
     "metadata": {},
     "output_type": "execute_result"
    }
   ],
   "source": [
    "arr_slice[:] = 66\n",
    "arr"
   ]
  },
  {
   "cell_type": "code",
   "execution_count": 9,
   "metadata": {},
   "outputs": [
    {
     "data": {
      "text/plain": [
       "array([[1, 2, 3],\n",
       "       [4, 5, 6],\n",
       "       [7, 8, 9]])"
      ]
     },
     "execution_count": 9,
     "metadata": {},
     "output_type": "execute_result"
    }
   ],
   "source": [
    "arr2d = np.array([[1,2,3], [4,5,6], [7,8,9]])\n",
    "arr2d"
   ]
  },
  {
   "cell_type": "code",
   "execution_count": 11,
   "metadata": {},
   "outputs": [
    {
     "data": {
      "text/plain": [
       "array([1, 2, 3])"
      ]
     },
     "execution_count": 11,
     "metadata": {},
     "output_type": "execute_result"
    }
   ],
   "source": [
    "arr2d[0]"
   ]
  },
  {
   "cell_type": "code",
   "execution_count": 12,
   "metadata": {},
   "outputs": [
    {
     "data": {
      "text/plain": [
       "1"
      ]
     },
     "execution_count": 12,
     "metadata": {},
     "output_type": "execute_result"
    }
   ],
   "source": [
    "arr2d[0][0]"
   ]
  },
  {
   "cell_type": "code",
   "execution_count": 13,
   "metadata": {},
   "outputs": [
    {
     "data": {
      "text/plain": [
       "1"
      ]
     },
     "execution_count": 13,
     "metadata": {},
     "output_type": "execute_result"
    }
   ],
   "source": [
    "arr2d[0, 0]"
   ]
  },
  {
   "cell_type": "markdown",
   "metadata": {},
   "source": [
    "在二维数组索引方式中，**axis 0** 作为 **行**， **axis1** 作为 **列**"
   ]
  },
  {
   "cell_type": "markdown",
   "metadata": {},
   "source": [
    "<!--INDEX-->\n",
    "<img align=\"center\" style=\"padding-right:10px;\" src=\"index.png\">"
   ]
  },
  {
   "cell_type": "code",
   "execution_count": 28,
   "metadata": {},
   "outputs": [
    {
     "data": {
      "text/plain": [
       "array([[[ 1,  2,  3],\n",
       "        [ 4,  5,  6]],\n",
       "\n",
       "       [[ 7,  8,  9],\n",
       "        [10, 11, 12]]])"
      ]
     },
     "execution_count": 28,
     "metadata": {},
     "output_type": "execute_result"
    }
   ],
   "source": [
    "arr3d = np.array([[[1, 2, 3], [4, 5, 6]], [[7, 8, 9], [10, 11, 12]]]) # 2*2*3\n",
    "arr3d"
   ]
  },
  {
   "cell_type": "code",
   "execution_count": 15,
   "metadata": {},
   "outputs": [
    {
     "data": {
      "text/plain": [
       "array([[1, 2, 3],\n",
       "       [4, 5, 6]])"
      ]
     },
     "execution_count": 15,
     "metadata": {},
     "output_type": "execute_result"
    }
   ],
   "source": [
    "arr3d[0] # 2*3"
   ]
  },
  {
   "cell_type": "code",
   "execution_count": 16,
   "metadata": {},
   "outputs": [
    {
     "data": {
      "text/plain": [
       "array([[1, 2, 3],\n",
       "       [4, 5, 6]])"
      ]
     },
     "execution_count": 16,
     "metadata": {},
     "output_type": "execute_result"
    }
   ],
   "source": [
    "old_values = arr3d[0].copy()\n",
    "old_values"
   ]
  },
  {
   "cell_type": "code",
   "execution_count": 17,
   "metadata": {},
   "outputs": [
    {
     "data": {
      "text/plain": [
       "array([[[42, 42, 42],\n",
       "        [42, 42, 42]],\n",
       "\n",
       "       [[ 7,  8,  9],\n",
       "        [10, 11, 12]]])"
      ]
     },
     "execution_count": 17,
     "metadata": {},
     "output_type": "execute_result"
    }
   ],
   "source": [
    "arr3d[0] = 42\n",
    "arr3d"
   ]
  },
  {
   "cell_type": "code",
   "execution_count": 18,
   "metadata": {},
   "outputs": [
    {
     "data": {
      "text/plain": [
       "array([[[ 1,  2,  3],\n",
       "        [ 4,  5,  6]],\n",
       "\n",
       "       [[ 7,  8,  9],\n",
       "        [10, 11, 12]]])"
      ]
     },
     "execution_count": 18,
     "metadata": {},
     "output_type": "execute_result"
    }
   ],
   "source": [
    "arr3d[0] = old_values\n",
    "arr3d"
   ]
  },
  {
   "cell_type": "code",
   "execution_count": 19,
   "metadata": {},
   "outputs": [
    {
     "data": {
      "text/plain": [
       "array([ True,  True,  True])"
      ]
     },
     "execution_count": 19,
     "metadata": {},
     "output_type": "execute_result"
    }
   ],
   "source": [
    "arr3d[1, 0] == arr3d[1][0]"
   ]
  },
  {
   "cell_type": "code",
   "execution_count": 20,
   "metadata": {},
   "outputs": [
    {
     "data": {
      "text/plain": [
       "array([7, 8, 9])"
      ]
     },
     "execution_count": 20,
     "metadata": {},
     "output_type": "execute_result"
    }
   ],
   "source": [
    "arr3d[1, 0] # 在选取的数组子集中，返回的狮子是视图"
   ]
  },
  {
   "cell_type": "markdown",
   "metadata": {},
   "source": [
    "<!--SLICE_AXIS_OPERATION-->\n",
    "<img align=\"center\" style=\"padding-right:10px;\" src=\"SLICE_AXIS_OPERATION.png\">"
   ]
  },
  {
   "cell_type": "markdown",
   "metadata": {},
   "source": [
    "###### 切片索引"
   ]
  },
  {
   "cell_type": "code",
   "execution_count": 22,
   "metadata": {},
   "outputs": [
    {
     "data": {
      "text/plain": [
       "array([ 1,  2,  3,  4, 66])"
      ]
     },
     "execution_count": 22,
     "metadata": {},
     "output_type": "execute_result"
    }
   ],
   "source": [
    "arr\n",
    "arr[1:6]"
   ]
  },
  {
   "cell_type": "code",
   "execution_count": 28,
   "metadata": {},
   "outputs": [
    {
     "data": {
      "text/plain": [
       "array([[1, 2, 3],\n",
       "       [4, 5, 6]])"
      ]
     },
     "execution_count": 28,
     "metadata": {},
     "output_type": "execute_result"
    }
   ],
   "source": [
    "arr2d\n",
    "arr2d[:2]"
   ]
  },
  {
   "cell_type": "code",
   "execution_count": 29,
   "metadata": {},
   "outputs": [
    {
     "data": {
      "text/plain": [
       "array([[2, 3],\n",
       "       [5, 6]])"
      ]
     },
     "execution_count": 29,
     "metadata": {},
     "output_type": "execute_result"
    }
   ],
   "source": [
    "arr2d[:2, 1:]"
   ]
  },
  {
   "cell_type": "code",
   "execution_count": 31,
   "metadata": {},
   "outputs": [
    {
     "data": {
      "text/plain": [
       "array([[1, 2, 3],\n",
       "       [4, 5, 6],\n",
       "       [7, 8, 9]])"
      ]
     },
     "execution_count": 31,
     "metadata": {},
     "output_type": "execute_result"
    }
   ],
   "source": [
    "arr2d"
   ]
  },
  {
   "cell_type": "code",
   "execution_count": 30,
   "metadata": {},
   "outputs": [
    {
     "data": {
      "text/plain": [
       "array([4, 5])"
      ]
     },
     "execution_count": 30,
     "metadata": {},
     "output_type": "execute_result"
    }
   ],
   "source": [
    "arr2d[1, :2] # 区分 ， 和 ："
   ]
  },
  {
   "cell_type": "code",
   "execution_count": 32,
   "metadata": {},
   "outputs": [
    {
     "data": {
      "text/plain": [
       "array([3, 6])"
      ]
     },
     "execution_count": 32,
     "metadata": {},
     "output_type": "execute_result"
    }
   ],
   "source": [
    "arr2d[:2, 2] # 不是[2, 5]"
   ]
  },
  {
   "cell_type": "code",
   "execution_count": 33,
   "metadata": {},
   "outputs": [
    {
     "data": {
      "text/plain": [
       "array([[1],\n",
       "       [4],\n",
       "       [7]])"
      ]
     },
     "execution_count": 33,
     "metadata": {},
     "output_type": "execute_result"
    }
   ],
   "source": [
    "arr2d[:, :1] # 不是[1, 4, 7] 应该为二维数组[[1], [4], [7]]"
   ]
  },
  {
   "cell_type": "code",
   "execution_count": null,
   "metadata": {},
   "outputs": [],
   "source": [
    "arr2d[:2, 1:] = 0 \n",
    "arr2d"
   ]
  },
  {
   "cell_type": "code",
   "execution_count": null,
   "metadata": {},
   "outputs": [],
   "source": []
  },
  {
   "cell_type": "markdown",
   "metadata": {},
   "source": [
    "###### 布尔型索引"
   ]
  },
  {
   "cell_type": "code",
   "execution_count": 2,
   "metadata": {},
   "outputs": [
    {
     "name": "stdout",
     "output_type": "stream",
     "text": [
      "['Bob' 'Joe' 'Will' 'Bob' 'Will' 'Joe' 'Joe']\n"
     ]
    },
    {
     "data": {
      "text/plain": [
       "array([[ 8.58877824e-02,  6.10311645e-01, -8.78603821e-01,\n",
       "        -1.38291557e+00],\n",
       "       [-2.14178856e-01,  7.14780957e-01,  6.10669075e-01,\n",
       "        -1.85142935e+00],\n",
       "       [ 4.61186899e-01,  1.40366554e-01, -2.34831752e-02,\n",
       "         3.65059573e-01],\n",
       "       [ 9.91863956e-04,  9.36060689e-01,  8.23585757e-01,\n",
       "         5.14189402e-01],\n",
       "       [-1.89843862e+00, -6.08435200e-01,  1.82259825e-01,\n",
       "        -4.93115717e-01],\n",
       "       [ 2.80670493e-01,  8.79599339e-01,  1.23960750e+00,\n",
       "         1.43322768e-01],\n",
       "       [-1.42272750e+00, -1.60586964e+00, -1.37533805e+00,\n",
       "        -2.08101971e-01]])"
      ]
     },
     "execution_count": 2,
     "metadata": {},
     "output_type": "execute_result"
    }
   ],
   "source": [
    "import numpy as np\n",
    "names = np.array(['Bob', 'Joe', 'Will', 'Bob', 'Will', 'Joe', 'Joe'])\n",
    "data = np.random.randn(7, 4)\n",
    "print(names)\n",
    "data"
   ]
  },
  {
   "cell_type": "code",
   "execution_count": 3,
   "metadata": {},
   "outputs": [
    {
     "data": {
      "text/plain": [
       "array([ True, False, False,  True, False, False, False])"
      ]
     },
     "execution_count": 3,
     "metadata": {},
     "output_type": "execute_result"
    }
   ],
   "source": [
    "names == 'Bob'"
   ]
  },
  {
   "cell_type": "code",
   "execution_count": 4,
   "metadata": {},
   "outputs": [
    {
     "data": {
      "text/plain": [
       "array([[ 8.58877824e-02,  6.10311645e-01, -8.78603821e-01,\n",
       "        -1.38291557e+00],\n",
       "       [ 9.91863956e-04,  9.36060689e-01,  8.23585757e-01,\n",
       "         5.14189402e-01]])"
      ]
     },
     "execution_count": 4,
     "metadata": {},
     "output_type": "execute_result"
    }
   ],
   "source": [
    "data[names == 'Bob']"
   ]
  },
  {
   "cell_type": "code",
   "execution_count": 5,
   "metadata": {},
   "outputs": [
    {
     "data": {
      "text/plain": [
       "array([[-0.87860382, -1.38291557],\n",
       "       [ 0.82358576,  0.5141894 ]])"
      ]
     },
     "execution_count": 5,
     "metadata": {},
     "output_type": "execute_result"
    }
   ],
   "source": [
    "data[names == 'Bob', 2:]"
   ]
  },
  {
   "cell_type": "code",
   "execution_count": 6,
   "metadata": {},
   "outputs": [
    {
     "data": {
      "text/plain": [
       "array([-1.38291557,  0.5141894 ])"
      ]
     },
     "execution_count": 6,
     "metadata": {},
     "output_type": "execute_result"
    }
   ],
   "source": [
    "data[names == 'Bob', 3]"
   ]
  },
  {
   "cell_type": "code",
   "execution_count": 7,
   "metadata": {},
   "outputs": [
    {
     "data": {
      "text/plain": [
       "array([[-0.21417886,  0.71478096,  0.61066908, -1.85142935],\n",
       "       [ 0.4611869 ,  0.14036655, -0.02348318,  0.36505957],\n",
       "       [-1.89843862, -0.6084352 ,  0.18225983, -0.49311572],\n",
       "       [ 0.28067049,  0.87959934,  1.2396075 ,  0.14332277],\n",
       "       [-1.4227275 , -1.60586964, -1.37533805, -0.20810197]])"
      ]
     },
     "execution_count": 7,
     "metadata": {},
     "output_type": "execute_result"
    }
   ],
   "source": [
    "names != 'Bob'\n",
    "data[~(names == 'Bob')]"
   ]
  },
  {
   "cell_type": "code",
   "execution_count": 8,
   "metadata": {},
   "outputs": [],
   "source": [
    "cond = names == 'Bob'"
   ]
  },
  {
   "cell_type": "code",
   "execution_count": 9,
   "metadata": {},
   "outputs": [
    {
     "data": {
      "text/plain": [
       "array([ True, False, False,  True, False, False, False])"
      ]
     },
     "execution_count": 9,
     "metadata": {},
     "output_type": "execute_result"
    }
   ],
   "source": [
    "cond"
   ]
  },
  {
   "cell_type": "code",
   "execution_count": 10,
   "metadata": {},
   "outputs": [
    {
     "data": {
      "text/plain": [
       "array([[-0.21417886,  0.71478096,  0.61066908, -1.85142935],\n",
       "       [ 0.4611869 ,  0.14036655, -0.02348318,  0.36505957],\n",
       "       [-1.89843862, -0.6084352 ,  0.18225983, -0.49311572],\n",
       "       [ 0.28067049,  0.87959934,  1.2396075 ,  0.14332277],\n",
       "       [-1.4227275 , -1.60586964, -1.37533805, -0.20810197]])"
      ]
     },
     "execution_count": 10,
     "metadata": {},
     "output_type": "execute_result"
    }
   ],
   "source": [
    "data[~cond]"
   ]
  },
  {
   "cell_type": "code",
   "execution_count": 11,
   "metadata": {},
   "outputs": [
    {
     "name": "stdout",
     "output_type": "stream",
     "text": [
      "[ True False  True  True  True False False]\n"
     ]
    },
    {
     "data": {
      "text/plain": [
       "array([[ 8.58877824e-02,  6.10311645e-01, -8.78603821e-01,\n",
       "        -1.38291557e+00],\n",
       "       [ 4.61186899e-01,  1.40366554e-01, -2.34831752e-02,\n",
       "         3.65059573e-01],\n",
       "       [ 9.91863956e-04,  9.36060689e-01,  8.23585757e-01,\n",
       "         5.14189402e-01],\n",
       "       [-1.89843862e+00, -6.08435200e-01,  1.82259825e-01,\n",
       "        -4.93115717e-01]])"
      ]
     },
     "execution_count": 11,
     "metadata": {},
     "output_type": "execute_result"
    }
   ],
   "source": [
    "mask = (names == 'Bob') | (names == 'Will')\n",
    "print(mask)\n",
    "data[mask]"
   ]
  },
  {
   "cell_type": "code",
   "execution_count": 12,
   "metadata": {},
   "outputs": [
    {
     "data": {
      "text/plain": [
       "array([[8.58877824e-02, 6.10311645e-01, 0.00000000e+00, 0.00000000e+00],\n",
       "       [0.00000000e+00, 7.14780957e-01, 6.10669075e-01, 0.00000000e+00],\n",
       "       [4.61186899e-01, 1.40366554e-01, 0.00000000e+00, 3.65059573e-01],\n",
       "       [9.91863956e-04, 9.36060689e-01, 8.23585757e-01, 5.14189402e-01],\n",
       "       [0.00000000e+00, 0.00000000e+00, 1.82259825e-01, 0.00000000e+00],\n",
       "       [2.80670493e-01, 8.79599339e-01, 1.23960750e+00, 1.43322768e-01],\n",
       "       [0.00000000e+00, 0.00000000e+00, 0.00000000e+00, 0.00000000e+00]])"
      ]
     },
     "execution_count": 12,
     "metadata": {},
     "output_type": "execute_result"
    }
   ],
   "source": [
    "data[data < 0] = 0\n",
    "data"
   ]
  },
  {
   "cell_type": "code",
   "execution_count": 13,
   "metadata": {},
   "outputs": [
    {
     "data": {
      "text/plain": [
       "array([[7.        , 7.        , 7.        , 7.        ],\n",
       "       [0.        , 0.71478096, 0.61066908, 0.        ],\n",
       "       [7.        , 7.        , 7.        , 7.        ],\n",
       "       [7.        , 7.        , 7.        , 7.        ],\n",
       "       [7.        , 7.        , 7.        , 7.        ],\n",
       "       [0.28067049, 0.87959934, 1.2396075 , 0.14332277],\n",
       "       [0.        , 0.        , 0.        , 0.        ]])"
      ]
     },
     "execution_count": 13,
     "metadata": {},
     "output_type": "execute_result"
    }
   ],
   "source": [
    "data[names != 'Joe'] = 7\n",
    "data"
   ]
  },
  {
   "cell_type": "markdown",
   "metadata": {},
   "source": [
    "###### 花式索引"
   ]
  },
  {
   "cell_type": "code",
   "execution_count": 14,
   "metadata": {},
   "outputs": [],
   "source": [
    "arr = np.empty((8, 4))"
   ]
  },
  {
   "cell_type": "code",
   "execution_count": 15,
   "metadata": {},
   "outputs": [
    {
     "data": {
      "text/plain": [
       "array([[2.36e-321, 0.00e+000, 0.00e+000, 0.00e+000],\n",
       "       [0.00e+000, 0.00e+000, 0.00e+000, 0.00e+000],\n",
       "       [0.00e+000, 0.00e+000, 0.00e+000, 0.00e+000],\n",
       "       [0.00e+000, 0.00e+000, 0.00e+000, 0.00e+000],\n",
       "       [0.00e+000, 0.00e+000, 0.00e+000, 0.00e+000],\n",
       "       [0.00e+000, 0.00e+000, 0.00e+000, 0.00e+000],\n",
       "       [0.00e+000, 0.00e+000, 0.00e+000, 0.00e+000],\n",
       "       [0.00e+000, 0.00e+000, 0.00e+000, 0.00e+000]])"
      ]
     },
     "execution_count": 15,
     "metadata": {},
     "output_type": "execute_result"
    }
   ],
   "source": [
    "arr"
   ]
  },
  {
   "cell_type": "code",
   "execution_count": 16,
   "metadata": {},
   "outputs": [
    {
     "data": {
      "text/plain": [
       "array([[0., 0., 0., 0.],\n",
       "       [1., 1., 1., 1.],\n",
       "       [2., 2., 2., 2.],\n",
       "       [3., 3., 3., 3.],\n",
       "       [4., 4., 4., 4.],\n",
       "       [5., 5., 5., 5.],\n",
       "       [6., 6., 6., 6.],\n",
       "       [7., 7., 7., 7.]])"
      ]
     },
     "execution_count": 16,
     "metadata": {},
     "output_type": "execute_result"
    }
   ],
   "source": [
    "for i in range(8):\n",
    "    arr[i] = i\n",
    "arr"
   ]
  },
  {
   "cell_type": "code",
   "execution_count": 17,
   "metadata": {},
   "outputs": [
    {
     "data": {
      "text/plain": [
       "array([[4., 4., 4., 4.],\n",
       "       [3., 3., 3., 3.],\n",
       "       [0., 0., 0., 0.],\n",
       "       [6., 6., 6., 6.]])"
      ]
     },
     "execution_count": 17,
     "metadata": {},
     "output_type": "execute_result"
    }
   ],
   "source": [
    "arr[[4, 3, 0, 6]]"
   ]
  },
  {
   "cell_type": "code",
   "execution_count": 18,
   "metadata": {},
   "outputs": [
    {
     "data": {
      "text/plain": [
       "array([[5., 5., 5., 5.],\n",
       "       [3., 3., 3., 3.],\n",
       "       [1., 1., 1., 1.]])"
      ]
     },
     "execution_count": 18,
     "metadata": {},
     "output_type": "execute_result"
    }
   ],
   "source": [
    "arr[[-3, -5, -7]]"
   ]
  },
  {
   "cell_type": "code",
   "execution_count": 19,
   "metadata": {},
   "outputs": [
    {
     "data": {
      "text/plain": [
       "array([[ 0,  1,  2,  3],\n",
       "       [ 4,  5,  6,  7],\n",
       "       [ 8,  9, 10, 11],\n",
       "       [12, 13, 14, 15],\n",
       "       [16, 17, 18, 19],\n",
       "       [20, 21, 22, 23],\n",
       "       [24, 25, 26, 27],\n",
       "       [28, 29, 30, 31]])"
      ]
     },
     "execution_count": 19,
     "metadata": {},
     "output_type": "execute_result"
    }
   ],
   "source": [
    "arr = np.arange(32).reshape((8, 4))\n",
    "arr"
   ]
  },
  {
   "cell_type": "code",
   "execution_count": 20,
   "metadata": {},
   "outputs": [
    {
     "data": {
      "text/plain": [
       "array([ 4, 23, 29, 10])"
      ]
     },
     "execution_count": 20,
     "metadata": {},
     "output_type": "execute_result"
    }
   ],
   "source": [
    "arr[[1, 5, 7, 2], [0, 3, 1, 2]]"
   ]
  },
  {
   "cell_type": "code",
   "execution_count": 21,
   "metadata": {},
   "outputs": [
    {
     "data": {
      "text/plain": [
       "array([[ 4,  5,  6,  7],\n",
       "       [20, 21, 22, 23],\n",
       "       [28, 29, 30, 31],\n",
       "       [ 8,  9, 10, 11]])"
      ]
     },
     "execution_count": 21,
     "metadata": {},
     "output_type": "execute_result"
    }
   ],
   "source": [
    "arr[[1, 5, 7, 2]]"
   ]
  },
  {
   "cell_type": "code",
   "execution_count": 22,
   "metadata": {},
   "outputs": [
    {
     "data": {
      "text/plain": [
       "array([[ 4,  7,  5,  6],\n",
       "       [20, 23, 21, 22],\n",
       "       [28, 31, 29, 30],\n",
       "       [ 8, 11,  9, 10]])"
      ]
     },
     "execution_count": 22,
     "metadata": {},
     "output_type": "execute_result"
    }
   ],
   "source": [
    "arr[[1, 5, 7, 2]][:, [0, 3, 1, 2]]"
   ]
  },
  {
   "cell_type": "markdown",
   "metadata": {},
   "source": [
    "#### 数组转换 和 轴对换"
   ]
  },
  {
   "cell_type": "markdown",
   "metadata": {},
   "source": [
    "**Transpose转置** **np.dot矩阵内积** "
   ]
  },
  {
   "cell_type": "code",
   "execution_count": 23,
   "metadata": {},
   "outputs": [
    {
     "name": "stdout",
     "output_type": "stream",
     "text": [
      "[[ 0  1  2  3  4]\n",
      " [ 5  6  7  8  9]\n",
      " [10 11 12 13 14]]\n"
     ]
    },
    {
     "data": {
      "text/plain": [
       "array([[ 0,  5, 10],\n",
       "       [ 1,  6, 11],\n",
       "       [ 2,  7, 12],\n",
       "       [ 3,  8, 13],\n",
       "       [ 4,  9, 14]])"
      ]
     },
     "execution_count": 23,
     "metadata": {},
     "output_type": "execute_result"
    }
   ],
   "source": [
    "arr = np.arange(15).reshape((3, 5))\n",
    "print(arr)\n",
    "arr.T"
   ]
  },
  {
   "cell_type": "code",
   "execution_count": 24,
   "metadata": {},
   "outputs": [
    {
     "name": "stdout",
     "output_type": "stream",
     "text": [
      "[[ 1.44799896 -0.30287418 -0.14539283]\n",
      " [-1.28665001  0.24617812 -0.86377712]\n",
      " [-0.57546797 -0.81258667 -0.99373548]\n",
      " [ 0.19630359  1.2093807  -1.94777261]\n",
      " [ 0.58642405  0.56119671 -0.68612839]\n",
      " [-0.36458698  0.7007793  -0.15797472]]\n"
     ]
    },
    {
     "data": {
      "text/plain": [
       "array([[ 4.59868456,  0.02332103,  0.74559168],\n",
       "       [ 0.02332103,  3.08126857, -2.2124681 ],\n",
       "       [ 0.74559168, -2.2124681 ,  6.04430651]])"
      ]
     },
     "execution_count": 24,
     "metadata": {},
     "output_type": "execute_result"
    }
   ],
   "source": [
    "arr = np.random.randn(6, 3)\n",
    "print(arr)\n",
    "np.dot(arr.T, arr)"
   ]
  },
  {
   "cell_type": "markdown",
   "metadata": {},
   "source": [
    "对于高维数组， **transpose** 需得到一个由轴编号组成的元组才能对这些轴元素进行转置操作"
   ]
  },
  {
   "cell_type": "code",
   "execution_count": 25,
   "metadata": {},
   "outputs": [
    {
     "name": "stdout",
     "output_type": "stream",
     "text": [
      "[[[ 0  1  2  3]\n",
      "  [ 4  5  6  7]]\n",
      "\n",
      " [[ 8  9 10 11]\n",
      "  [12 13 14 15]]]\n"
     ]
    },
    {
     "data": {
      "text/plain": [
       "array([[[ 0,  1,  2,  3],\n",
       "        [ 8,  9, 10, 11]],\n",
       "\n",
       "       [[ 4,  5,  6,  7],\n",
       "        [12, 13, 14, 15]]])"
      ]
     },
     "execution_count": 25,
     "metadata": {},
     "output_type": "execute_result"
    }
   ],
   "source": [
    "arr = np.arange(16).reshape((2, 2, 4))\n",
    "print(arr)\n",
    "arr.transpose((1, 0, 2))"
   ]
  },
  {
   "cell_type": "markdown",
   "metadata": {},
   "source": [
    "arr.**transpose**((1, 0, 2))\n",
    "**第一个轴换成了第二个，第二个轴换成了第一个，最后一个轴不变**  如何可视化效果"
   ]
  },
  {
   "cell_type": "code",
   "execution_count": 26,
   "metadata": {},
   "outputs": [
    {
     "data": {
      "text/plain": [
       "array([[0, 1, 2, 3],\n",
       "       [4, 5, 6, 7]])"
      ]
     },
     "execution_count": 26,
     "metadata": {},
     "output_type": "execute_result"
    }
   ],
   "source": [
    "arr[0]"
   ]
  },
  {
   "cell_type": "code",
   "execution_count": 27,
   "metadata": {},
   "outputs": [
    {
     "name": "stdout",
     "output_type": "stream",
     "text": [
      "[[[ 0  1  2  3]\n",
      "  [ 4  5  6  7]]\n",
      "\n",
      " [[ 8  9 10 11]\n",
      "  [12 13 14 15]]]\n"
     ]
    },
    {
     "data": {
      "text/plain": [
       "array([[[ 0,  4],\n",
       "        [ 1,  5],\n",
       "        [ 2,  6],\n",
       "        [ 3,  7]],\n",
       "\n",
       "       [[ 8, 12],\n",
       "        [ 9, 13],\n",
       "        [10, 14],\n",
       "        [11, 15]]])"
      ]
     },
     "execution_count": 27,
     "metadata": {},
     "output_type": "execute_result"
    }
   ],
   "source": [
    "print(arr)\n",
    "arr.swapaxes(1, 2)"
   ]
  },
  {
   "cell_type": "markdown",
   "metadata": {},
   "source": [
    "arr.**swapaxes**(1, 2)\n",
    "**swapaxes方法**需要接受一对轴编号** \n",
    "\n",
    "**swapaxes也是返回源数据的视图，不会进行任何复制操作**"
   ]
  },
  {
   "cell_type": "markdown",
   "metadata": {},
   "source": [
    "### 2.2 通用函数 之 快速的元素级 数组函数"
   ]
  },
  {
   "cell_type": "code",
   "execution_count": 29,
   "metadata": {},
   "outputs": [
    {
     "name": "stdout",
     "output_type": "stream",
     "text": [
      "[0 1 2 3 4 5 6 7 8 9]\n"
     ]
    },
    {
     "data": {
      "text/plain": [
       "array([0.        , 1.        , 1.41421356, 1.73205081, 2.        ,\n",
       "       2.23606798, 2.44948974, 2.64575131, 2.82842712, 3.        ])"
      ]
     },
     "execution_count": 29,
     "metadata": {},
     "output_type": "execute_result"
    }
   ],
   "source": [
    "arr = np.arange(10)\n",
    "print(arr)\n",
    "np.sqrt(arr)"
   ]
  },
  {
   "cell_type": "code",
   "execution_count": 30,
   "metadata": {},
   "outputs": [
    {
     "data": {
      "text/plain": [
       "array([1.00000000e+00, 2.71828183e+00, 7.38905610e+00, 2.00855369e+01,\n",
       "       5.45981500e+01, 1.48413159e+02, 4.03428793e+02, 1.09663316e+03,\n",
       "       2.98095799e+03, 8.10308393e+03])"
      ]
     },
     "execution_count": 30,
     "metadata": {},
     "output_type": "execute_result"
    }
   ],
   "source": [
    "np.exp(arr)"
   ]
  },
  {
   "cell_type": "code",
   "execution_count": 31,
   "metadata": {},
   "outputs": [
    {
     "name": "stdout",
     "output_type": "stream",
     "text": [
      "[ 0.59581468 -0.25089477  1.20161081 -0.51344487 -0.4370267  -0.88645802\n",
      " -0.86970618 -0.25063455]\n",
      "[ 0.01156511 -0.5809895  -0.39948053 -0.02839999 -0.35425955  0.00726338\n",
      "  0.59596371  0.88092994]\n"
     ]
    },
    {
     "data": {
      "text/plain": [
       "array([ 0.59581468, -0.25089477,  1.20161081, -0.02839999, -0.35425955,\n",
       "        0.00726338,  0.59596371,  0.88092994])"
      ]
     },
     "execution_count": 31,
     "metadata": {},
     "output_type": "execute_result"
    }
   ],
   "source": [
    "x = np.random.randn(8)\n",
    "y = np.random.randn(8)\n",
    "print(x)\n",
    "print(y)\n",
    "np.maximum(x, y)"
   ]
  },
  {
   "cell_type": "code",
   "execution_count": 32,
   "metadata": {},
   "outputs": [
    {
     "name": "stdout",
     "output_type": "stream",
     "text": [
      "[-2.24161588 -4.4988175  -7.63179707  2.56621899 10.74873339  2.66506562\n",
      " -2.76249121]\n",
      "[-0.24161588 -0.4988175  -0.63179707  0.56621899  0.74873339  0.66506562\n",
      " -0.76249121]\n",
      "[-2. -4. -7.  2. 10.  2. -2.]\n"
     ]
    }
   ],
   "source": [
    "arr = np.random.randn(7) * 5\n",
    "print(arr)\n",
    "remainder, whole_part = np.modf(arr)\n",
    "print(remainder)\n",
    "print(whole_part)"
   ]
  },
  {
   "cell_type": "code",
   "execution_count": 33,
   "metadata": {},
   "outputs": [
    {
     "name": "stdout",
     "output_type": "stream",
     "text": [
      "[-2.24161588 -4.4988175  -7.63179707  2.56621899 10.74873339  2.66506562\n",
      " -2.76249121]\n"
     ]
    },
    {
     "name": "stderr",
     "output_type": "stream",
     "text": [
      "D:\\Anaconda3\\lib\\site-packages\\ipykernel_launcher.py:2: RuntimeWarning: invalid value encountered in sqrt\n",
      "  \n"
     ]
    },
    {
     "data": {
      "text/plain": [
       "array([       nan,        nan,        nan, 1.60194226, 3.2785261 ,\n",
       "       1.63250287,        nan])"
      ]
     },
     "execution_count": 33,
     "metadata": {},
     "output_type": "execute_result"
    }
   ],
   "source": [
    "print(arr)\n",
    "np.sqrt(arr)"
   ]
  },
  {
   "cell_type": "code",
   "execution_count": 34,
   "metadata": {},
   "outputs": [
    {
     "name": "stderr",
     "output_type": "stream",
     "text": [
      "D:\\Anaconda3\\lib\\site-packages\\ipykernel_launcher.py:1: RuntimeWarning: invalid value encountered in sqrt\n",
      "  \"\"\"Entry point for launching an IPython kernel.\n"
     ]
    },
    {
     "data": {
      "text/plain": [
       "array([       nan,        nan,        nan, 1.60194226, 3.2785261 ,\n",
       "       1.63250287,        nan])"
      ]
     },
     "execution_count": 34,
     "metadata": {},
     "output_type": "execute_result"
    }
   ],
   "source": [
    "np.sqrt(arr, arr)\n",
    "arr"
   ]
  },
  {
   "cell_type": "markdown",
   "metadata": {},
   "source": [
    "<!--UFUNC_1-->\n",
    "<img align=\"center\" style=\"padding-right:10px;\" src=\"UFUNC_1.png\">"
   ]
  },
  {
   "cell_type": "markdown",
   "metadata": {},
   "source": [
    "<!--UFUNC_2-->\n",
    "<img align=\"center\" style=\"padding-right:10px;\" src=\"UFUNC_2.png\">"
   ]
  },
  {
   "cell_type": "markdown",
   "metadata": {},
   "source": [
    "<!--UFUNC_3-->\n",
    "<img align=\"center\" style=\"padding-right:10px;\" src=\"UFUNC_3.png\">"
   ]
  },
  {
   "cell_type": "markdown",
   "metadata": {},
   "source": [
    "### 2.3 利用数组 进行 数据处理"
   ]
  },
  {
   "cell_type": "code",
   "execution_count": 36,
   "metadata": {},
   "outputs": [
    {
     "name": "stdout",
     "output_type": "stream",
     "text": [
      "[[-5.   -4.99 -4.98 ...  4.97  4.98  4.99]\n",
      " [-5.   -4.99 -4.98 ...  4.97  4.98  4.99]\n",
      " [-5.   -4.99 -4.98 ...  4.97  4.98  4.99]\n",
      " ...\n",
      " [-5.   -4.99 -4.98 ...  4.97  4.98  4.99]\n",
      " [-5.   -4.99 -4.98 ...  4.97  4.98  4.99]\n",
      " [-5.   -4.99 -4.98 ...  4.97  4.98  4.99]]\n",
      "[[-5.   -5.   -5.   ... -5.   -5.   -5.  ]\n",
      " [-4.99 -4.99 -4.99 ... -4.99 -4.99 -4.99]\n",
      " [-4.98 -4.98 -4.98 ... -4.98 -4.98 -4.98]\n",
      " ...\n",
      " [ 4.97  4.97  4.97 ...  4.97  4.97  4.97]\n",
      " [ 4.98  4.98  4.98 ...  4.98  4.98  4.98]\n",
      " [ 4.99  4.99  4.99 ...  4.99  4.99  4.99]]\n"
     ]
    }
   ],
   "source": [
    "points = np.arange(-5, 5, 0.01) # 生成 1000 个等距点\n",
    "xs, ys = np.meshgrid(points, points)\n",
    "print(xs)\n",
    "print(ys)"
   ]
  },
  {
   "cell_type": "code",
   "execution_count": null,
   "metadata": {},
   "outputs": [],
   "source": [
    "# sqrt(x**2 + y**2)"
   ]
  },
  {
   "cell_type": "code",
   "execution_count": 37,
   "metadata": {},
   "outputs": [
    {
     "data": {
      "text/plain": [
       "array([[7.07106781, 7.06400028, 7.05693985, ..., 7.04988652, 7.05693985,\n",
       "        7.06400028],\n",
       "       [7.06400028, 7.05692568, 7.04985815, ..., 7.04279774, 7.04985815,\n",
       "        7.05692568],\n",
       "       [7.05693985, 7.04985815, 7.04278354, ..., 7.03571603, 7.04278354,\n",
       "        7.04985815],\n",
       "       ...,\n",
       "       [7.04988652, 7.04279774, 7.03571603, ..., 7.0286414 , 7.03571603,\n",
       "        7.04279774],\n",
       "       [7.05693985, 7.04985815, 7.04278354, ..., 7.03571603, 7.04278354,\n",
       "        7.04985815],\n",
       "       [7.06400028, 7.05692568, 7.04985815, ..., 7.04279774, 7.04985815,\n",
       "        7.05692568]])"
      ]
     },
     "execution_count": 37,
     "metadata": {},
     "output_type": "execute_result"
    }
   ],
   "source": [
    "z = np.sqrt(xs ** 2 + ys ** 2)\n",
    "z"
   ]
  },
  {
   "cell_type": "code",
   "execution_count": 45,
   "metadata": {},
   "outputs": [
    {
     "data": {
      "image/png": "[encoded data removed]",
      "text/plain": [
       "<matplotlib.figure.Figure at 0x134d20f0>"
      ]
     },
     "metadata": {},
     "output_type": "display_data"
    }
   ],
   "source": [
    "import matplotlib.pyplot as plt\n",
    "plt.imshow(z, cmap=plt.cm.gray); plt.colorbar()\n",
    "plt.title(\"Image plot of $\\sqrt{x^2 + y^2}$ for a grid of values\")\n",
    "plt.show()\n",
    "# plt.draw()"
   ]
  },
  {
   "cell_type": "code",
   "execution_count": 44,
   "metadata": {},
   "outputs": [],
   "source": [
    "# plt.draw()"
   ]
  },
  {
   "cell_type": "code",
   "execution_count": 42,
   "metadata": {},
   "outputs": [],
   "source": [
    "# plt.show()"
   ]
  },
  {
   "cell_type": "code",
   "execution_count": 46,
   "metadata": {},
   "outputs": [],
   "source": [
    "plt.close('all')"
   ]
  },
  {
   "cell_type": "markdown",
   "metadata": {},
   "source": [
    "###### 将 条件逻辑 表述为 数组运算"
   ]
  },
  {
   "cell_type": "code",
   "execution_count": 47,
   "metadata": {},
   "outputs": [],
   "source": [
    "xarr = np.array([1.1, 1.2, 1.3, 1.4, 1.5])\n",
    "yarr = np.array([2.1, 2.2, 2.3, 2.4, 2.5])\n",
    "cond = np.array([True, False, True, True, False])"
   ]
  },
  {
   "cell_type": "markdown",
   "metadata": {},
   "source": [
    "**numpy.where**函数是三元表达式**x if condition else y**的矢量化版本"
   ]
  },
  {
   "cell_type": "code",
   "execution_count": 52,
   "metadata": {},
   "outputs": [
    {
     "data": {
      "text/plain": [
       "[1.1, 2.2, 1.3, 1.4, 2.5]"
      ]
     },
     "execution_count": 52,
     "metadata": {},
     "output_type": "execute_result"
    }
   ],
   "source": [
    "result = [(x if c else y)\n",
    "for x, y, c in zip(xarr, yarr, cond)]\n",
    "result"
   ]
  },
  {
   "cell_type": "markdown",
   "metadata": {},
   "source": [
    "### 等价于"
   ]
  },
  {
   "cell_type": "code",
   "execution_count": 53,
   "metadata": {},
   "outputs": [
    {
     "data": {
      "text/plain": [
       "array([1.1, 2.2, 1.3, 1.4, 2.5])"
      ]
     },
     "execution_count": 53,
     "metadata": {},
     "output_type": "execute_result"
    }
   ],
   "source": [
    "result = np.where(cond, xarr, yarr)\n",
    "result"
   ]
  },
  {
   "cell_type": "markdown",
   "metadata": {},
   "source": [
    "**np.where**的第二个和第三个参数不必是**数组**，它们都可以是**标量值**\n",
    "\n",
    "**where**通常用于根据另一个数组而产生一个新的数组"
   ]
  },
  {
   "cell_type": "code",
   "execution_count": 54,
   "metadata": {},
   "outputs": [
    {
     "name": "stdout",
     "output_type": "stream",
     "text": [
      "[[-0.75128775  0.14842628 -2.67884442 -0.27735283]\n",
      " [-0.7134898   0.64418621 -0.11618567  0.60270372]\n",
      " [-1.18019174  0.98539763  1.10702717  0.61393018]\n",
      " [-0.77924241 -0.0149009  -1.33915532 -0.15467254]]\n"
     ]
    },
    {
     "data": {
      "text/plain": [
       "array([[-2,  2, -2, -2],\n",
       "       [-2,  2, -2,  2],\n",
       "       [-2,  2,  2,  2],\n",
       "       [-2, -2, -2, -2]])"
      ]
     },
     "execution_count": 54,
     "metadata": {},
     "output_type": "execute_result"
    }
   ],
   "source": [
    "arr = np.random.randn(4, 4)\n",
    "print(arr)\n",
    "arr > 0\n",
    "np.where(arr > 0, 2, -2)"
   ]
  },
  {
   "cell_type": "markdown",
   "metadata": {},
   "source": [
    "使用**np.where**，可以将**标量**和**数组**结合起来"
   ]
  },
  {
   "cell_type": "code",
   "execution_count": 55,
   "metadata": {},
   "outputs": [
    {
     "data": {
      "text/plain": [
       "array([[-0.75128775,  2.        , -2.67884442, -0.27735283],\n",
       "       [-0.7134898 ,  2.        , -0.11618567,  2.        ],\n",
       "       [-1.18019174,  2.        ,  2.        ,  2.        ],\n",
       "       [-0.77924241, -0.0149009 , -1.33915532, -0.15467254]])"
      ]
     },
     "execution_count": 55,
     "metadata": {},
     "output_type": "execute_result"
    }
   ],
   "source": [
    "np.where(arr > 0, 2, arr) # 仅设置正值为2"
   ]
  },
  {
   "cell_type": "markdown",
   "metadata": {},
   "source": [
    "###### 数学 和 统计方法"
   ]
  },
  {
   "cell_type": "code",
   "execution_count": 56,
   "metadata": {},
   "outputs": [
    {
     "name": "stdout",
     "output_type": "stream",
     "text": [
      "[[ 0.96772256  0.84218533 -0.95378736  0.36482295]\n",
      " [-0.42231319  0.40011964 -1.97121497  0.12215019]\n",
      " [-0.34404093 -1.7595406   0.59587012 -0.9611173 ]\n",
      " [-0.30775875 -0.2221207  -0.03479431 -0.57283496]\n",
      " [-1.44525434 -0.3100829   0.35549778 -0.34720323]]\n"
     ]
    },
    {
     "data": {
      "text/plain": [
       "-0.300184748245171"
      ]
     },
     "execution_count": 56,
     "metadata": {},
     "output_type": "execute_result"
    }
   ],
   "source": [
    "arr = np.random.randn(5, 4)\n",
    "print(arr)\n",
    "arr.mean()"
   ]
  },
  {
   "cell_type": "code",
   "execution_count": 57,
   "metadata": {},
   "outputs": [
    {
     "data": {
      "text/plain": [
       "-0.300184748245171"
      ]
     },
     "execution_count": 57,
     "metadata": {},
     "output_type": "execute_result"
    }
   ],
   "source": [
    "np.mean(arr)"
   ]
  },
  {
   "cell_type": "code",
   "execution_count": 58,
   "metadata": {},
   "outputs": [
    {
     "data": {
      "text/plain": [
       "-6.00369496490342"
      ]
     },
     "execution_count": 58,
     "metadata": {},
     "output_type": "execute_result"
    }
   ],
   "source": [
    "arr.sum()"
   ]
  },
  {
   "cell_type": "code",
   "execution_count": 59,
   "metadata": {},
   "outputs": [
    {
     "data": {
      "text/plain": [
       "array([ 0.30523587, -0.46781458, -0.61720718, -0.28437718, -0.43676067])"
      ]
     },
     "execution_count": 59,
     "metadata": {},
     "output_type": "execute_result"
    }
   ],
   "source": [
    "arr.mean(axis=1) # 列"
   ]
  },
  {
   "cell_type": "code",
   "execution_count": 60,
   "metadata": {},
   "outputs": [
    {
     "data": {
      "text/plain": [
       "array([-1.55164465, -1.04943923, -2.00842875, -1.39418233])"
      ]
     },
     "execution_count": 60,
     "metadata": {},
     "output_type": "execute_result"
    }
   ],
   "source": [
    "arr.sum(axis=0) # 行"
   ]
  },
  {
   "cell_type": "code",
   "execution_count": 2,
   "metadata": {},
   "outputs": [
    {
     "data": {
      "text/plain": [
       "array([ 0,  1,  3,  6, 10, 15, 21, 28], dtype=int32)"
      ]
     },
     "execution_count": 2,
     "metadata": {},
     "output_type": "execute_result"
    }
   ],
   "source": [
    "import numpy as np\n",
    "arr = np.array([0, 1, 2, 3, 4, 5, 6, 7])\n",
    "arr.cumsum()"
   ]
  },
  {
   "cell_type": "code",
   "execution_count": 3,
   "metadata": {},
   "outputs": [
    {
     "data": {
      "text/plain": [
       "array([[0, 1, 2],\n",
       "       [3, 4, 5],\n",
       "       [6, 7, 8]])"
      ]
     },
     "execution_count": 3,
     "metadata": {},
     "output_type": "execute_result"
    }
   ],
   "source": [
    "arr = np.array([[0, 1, 2], [3, 4, 5], [6, 7, 8]])\n",
    "arr"
   ]
  },
  {
   "cell_type": "markdown",
   "metadata": {},
   "source": [
    "arr.**cumsum**(axis=0) \n",
    "\n",
    "**cumsum** **所有元素的累积和**\n",
    "\n",
    "**cumprod** **所有元素的累积和**"
   ]
  },
  {
   "cell_type": "code",
   "execution_count": 4,
   "metadata": {},
   "outputs": [
    {
     "data": {
      "text/plain": [
       "array([[ 0,  1,  2],\n",
       "       [ 3,  5,  7],\n",
       "       [ 9, 12, 15]], dtype=int32)"
      ]
     },
     "execution_count": 4,
     "metadata": {},
     "output_type": "execute_result"
    }
   ],
   "source": [
    "arr.cumsum(axis=0)"
   ]
  },
  {
   "cell_type": "code",
   "execution_count": 5,
   "metadata": {},
   "outputs": [
    {
     "data": {
      "text/plain": [
       "array([[  0,   0,   0],\n",
       "       [  3,  12,  60],\n",
       "       [  6,  42, 336]], dtype=int32)"
      ]
     },
     "execution_count": 5,
     "metadata": {},
     "output_type": "execute_result"
    }
   ],
   "source": [
    "arr.cumprod(axis=1)"
   ]
  },
  {
   "cell_type": "markdown",
   "metadata": {},
   "source": [
    "###### 用于 布尔型数组 的方法"
   ]
  },
  {
   "cell_type": "code",
   "execution_count": 7,
   "metadata": {},
   "outputs": [
    {
     "data": {
      "text/plain": [
       "array([-0.26353035,  0.61117155, -0.26100579,  0.80912399, -1.4687972 ,\n",
       "        0.22768563,  0.84215494, -0.93124374,  0.14762889, -1.05438985,\n",
       "       -0.1423958 ,  1.17018593,  1.7177857 , -0.70182281,  0.48064777,\n",
       "        0.39168693,  0.51805128,  1.02045084, -0.92584456, -1.32202128,\n",
       "        1.5228969 ,  1.50984319, -1.95246348,  0.31904945,  0.75579435,\n",
       "        1.05629906,  1.21509412, -0.11910905, -0.89508614, -0.54395669,\n",
       "       -0.51109219,  0.85613294, -0.67941337,  0.23231831, -0.04217314,\n",
       "       -0.55094985, -0.20196348, -1.4357171 ,  0.17226752,  0.9070535 ,\n",
       "       -1.64719641,  0.08494466, -0.78861453, -0.52114162,  0.95950026,\n",
       "       -0.13525242,  1.02194187,  1.66258384,  0.84268519,  0.90268808,\n",
       "       -1.09535265, -0.06659192,  1.25794403, -1.12485547,  1.24919418,\n",
       "        2.33354438,  0.83128225, -0.3617432 , -1.23519584,  1.26392238,\n",
       "        1.75182305, -0.88107316,  0.76132646,  0.00789733,  1.13840872,\n",
       "        0.80843257,  0.27820562,  0.39511254,  1.77691783,  0.436845  ,\n",
       "        0.48095174,  0.86771609,  0.14647125,  1.34114021, -0.15831411,\n",
       "       -1.47234383, -0.53483846,  0.471799  , -2.48191662, -1.0617189 ,\n",
       "        0.00462623,  1.63176638,  0.72958513,  1.14806339, -0.4669612 ,\n",
       "       -0.32370378,  1.26410262, -0.68766096,  1.89526697, -0.60169777,\n",
       "        1.84235933, -0.40561492, -0.85361872,  1.53094694, -0.00628044,\n",
       "       -0.35350534, -0.35514605, -1.00073536, -1.04858928,  1.75945144])"
      ]
     },
     "execution_count": 7,
     "metadata": {},
     "output_type": "execute_result"
    }
   ],
   "source": [
    "arr = np.random.randn(100)\n",
    "arr"
   ]
  },
  {
   "cell_type": "code",
   "execution_count": 8,
   "metadata": {},
   "outputs": [
    {
     "data": {
      "text/plain": [
       "55"
      ]
     },
     "execution_count": 8,
     "metadata": {},
     "output_type": "execute_result"
    }
   ],
   "source": [
    "(arr > 0).sum() # 正值的数量"
   ]
  },
  {
   "cell_type": "code",
   "execution_count": 9,
   "metadata": {},
   "outputs": [
    {
     "data": {
      "text/plain": [
       "True"
      ]
     },
     "execution_count": 9,
     "metadata": {},
     "output_type": "execute_result"
    }
   ],
   "source": [
    "bools = np.array([False, False, True, False])\n",
    "bools.any()"
   ]
  },
  {
   "cell_type": "code",
   "execution_count": 10,
   "metadata": {},
   "outputs": [
    {
     "data": {
      "text/plain": [
       "False"
      ]
     },
     "execution_count": 10,
     "metadata": {},
     "output_type": "execute_result"
    }
   ],
   "source": [
    "bools.all()"
   ]
  },
  {
   "cell_type": "markdown",
   "metadata": {},
   "source": [
    "###### 排序"
   ]
  },
  {
   "cell_type": "code",
   "execution_count": 11,
   "metadata": {},
   "outputs": [
    {
     "name": "stdout",
     "output_type": "stream",
     "text": [
      "[-0.82197824 -1.13056407  1.58398445  1.2797255  -0.35052731 -0.35782304]\n"
     ]
    },
    {
     "data": {
      "text/plain": [
       "array([-1.13056407, -0.82197824, -0.35782304, -0.35052731,  1.2797255 ,\n",
       "        1.58398445])"
      ]
     },
     "execution_count": 11,
     "metadata": {},
     "output_type": "execute_result"
    }
   ],
   "source": [
    "arr = np.random.randn(6)\n",
    "print(arr)\n",
    "arr.sort()\n",
    "arr"
   ]
  },
  {
   "cell_type": "code",
   "execution_count": 12,
   "metadata": {},
   "outputs": [
    {
     "name": "stdout",
     "output_type": "stream",
     "text": [
      "[[ 1.01162845 -0.95916194  0.3243053 ]\n",
      " [-0.75188988 -0.08830718  0.40787345]\n",
      " [ 0.71346648  1.38603083 -0.6058393 ]\n",
      " [-1.29883203 -1.71205138  1.78415777]\n",
      " [ 0.75347891 -1.66423543 -0.1931056 ]]\n"
     ]
    },
    {
     "data": {
      "text/plain": [
       "array([[-0.95916194,  0.3243053 ,  1.01162845],\n",
       "       [-0.75188988, -0.08830718,  0.40787345],\n",
       "       [-0.6058393 ,  0.71346648,  1.38603083],\n",
       "       [-1.71205138, -1.29883203,  1.78415777],\n",
       "       [-1.66423543, -0.1931056 ,  0.75347891]])"
      ]
     },
     "execution_count": 12,
     "metadata": {},
     "output_type": "execute_result"
    }
   ],
   "source": [
    "arr = np.random.randn(5, 3)\n",
    "print(arr)\n",
    "arr.sort(1)\n",
    "arr"
   ]
  },
  {
   "cell_type": "code",
   "execution_count": 14,
   "metadata": {},
   "outputs": [
    {
     "name": "stdout",
     "output_type": "stream",
     "text": [
      "[-1.29441045 -0.18539976  0.30299672  0.39115717 -0.35435192 -0.85792463\n",
      "  0.66194825 -1.00580014  0.44027081 -0.99311237 -1.08641748 -0.56089739\n",
      " -0.94735763 -0.05615196 -0.30424626 -1.92025539 -0.02347742 -0.77880428\n",
      "  1.80482627 -0.11140395  0.73325341 -1.26839991 -0.57509546  1.2620023\n",
      " -0.46314689 -0.06639016 -2.67437142 -1.85749715 -0.0140781  -0.49335474\n",
      "  0.73364798  1.20379903 -0.12297093  0.06858079  1.61463071 -0.22331935\n",
      " -0.9226819   2.11583861 -0.28144278  0.29070099  0.69104073 -0.8159992\n",
      " -1.15430214  0.6188568  -0.51152201 -0.69132251 -0.5335655   2.72397176\n",
      " -0.12709148 -1.36859016 -0.26416548 -0.24196276  0.55508362  0.50941525\n",
      "  0.61335556  0.71345359  1.73001618 -0.28695    -0.03939383 -0.23398811\n",
      " -0.13795475 -1.31654635  0.08331108 -1.24851598  0.25399091  0.84101945\n",
      "  0.63239172 -1.15353282 -0.3176418  -0.10459529  0.75457947 -1.55784691\n",
      " -0.29655722  0.65693506 -1.64195242 -0.28970119 -0.74316365 -1.5533603\n",
      " -0.46529352  0.44606686  1.62956636 -0.39547966  0.077612    0.5360252\n",
      " -0.718541    1.0353802   1.8780464  -0.03135092 -1.12636592 -1.81175967\n",
      "  0.69218995  1.8924815   0.12360833 -0.71806856  1.0695761   0.99926876\n",
      " -1.52451249  1.12624835  0.08717617 -0.37033506  0.77509328 -0.54765056\n",
      " -0.0901599  -0.49475714  0.46903921 -1.00976826 -0.03552561 -0.65204959\n",
      "  0.48053476 -0.17144513 -0.02899022 -0.2322204   2.10484206  1.36218609\n",
      " -0.40123871 -0.93928289  0.26665892 -1.98159624  1.34872403 -0.41353314\n",
      " -0.42385319  1.05276686  0.55281696  1.40624894  0.96869401  0.13148559\n",
      " -1.10474573 -0.34096368 -0.88131926  0.37800936  0.53605888 -0.30481232\n",
      "  0.10043446  0.63005786 -0.53185959 -0.67571405 -1.26237203  0.28255611\n",
      " -0.24139293  0.41264868  0.91806185 -0.27307726  0.60413318  0.45567978\n",
      "  0.87389948  0.12587073 -1.40261362  0.39169055  0.42789624 -1.03936997\n",
      " -1.00275905  0.29487126 -1.00897213 -0.81006326  0.01015917 -0.59988626\n",
      "  0.66411692  0.39162475 -1.43345596  0.85390323 -0.22935199 -0.97101252\n",
      "  0.67479559  0.36111739  2.280121   -0.29540928 -0.04827611 -0.84540337\n",
      "  0.40663039  0.62142354  0.19426329  1.00476015 -0.87283664  0.13970391\n",
      "  0.34599761 -1.04737031  0.23274555 -0.34255943 -1.49642383  1.00005268\n",
      "  0.44884121 -0.29094295 -1.84354281  1.30074293  0.12777558  0.3540431\n",
      " -2.13597378 -1.8419823  -1.54338728 -0.84994046 -1.85831245 -0.83800732\n",
      " -1.23245051 -1.13306421  0.18437007 -1.27865982  0.8089409   0.5593217\n",
      " -0.18082395 -0.1341952   0.68936827  1.14188713  0.86370367 -0.53606157\n",
      " -2.1623957  -1.4721316   0.88401667  0.71712779  1.17457387  0.35055465\n",
      " -0.94584758  0.60281582  1.10959266 -0.61238681 -0.60155093 -1.06987821\n",
      " -1.43047714 -0.25926702  0.85650079  0.91586509 -0.04083531  0.33030363\n",
      " -0.62545355  1.22461458  0.48255374  0.81906198  0.01615884  1.44001316\n",
      " -0.64298304  0.31045077 -2.08442708  1.41345276 -0.92062327 -0.34920226\n",
      " -0.67983002 -1.27661115 -0.2878007  -0.76844297 -1.97811472  0.61367629\n",
      " -0.64045672  1.71383244 -0.07467562  1.56727861 -1.37827277 -0.77085409\n",
      " -0.22753729  0.87674487 -0.40054172  0.49228569  0.25681342 -1.00213394\n",
      "  0.19262881 -0.11111726 -1.02651425 -0.69238987 -1.85296522  1.1750657\n",
      " -0.88809875  0.93366191 -2.49806723 -1.36317692  0.35167287  1.51099151\n",
      "  0.74465974  0.11677616 -0.02607113  1.12910203  0.38391173 -1.29406181\n",
      " -0.98277922  0.40643167 -0.41234572 -0.1835281   1.22093949 -0.97742351\n",
      " -0.15536092 -1.80881534 -1.3215631   0.19759825  1.49387641 -0.41789781\n",
      " -0.21196829  0.23979269  0.45568827  0.32202131 -0.6528281  -1.50686232\n",
      "  0.39792346 -1.26172662  0.55342176 -1.91014717  0.73808037  0.56252356\n",
      "  0.16173013  1.02488755  0.11185956  0.18916044 -1.18825476  0.38006964\n",
      " -0.09860201 -0.09376444 -1.65833188  2.39729913 -1.0120271  -1.42901493\n",
      "  1.43058654 -1.07916099  1.27063924  1.41698114 -0.50435796 -0.774705\n",
      "  0.39150417  1.74160354  1.07749973  1.19009579  1.98084096 -0.12742632\n",
      " -2.80710391  0.22513691 -0.33040241 -0.05180626  0.34224509 -1.15280312\n",
      " -1.2548654  -0.4888802   0.5738728  -1.17102147 -1.21033543 -0.15190443\n",
      "  0.84900242 -0.46084815  1.81161533 -1.22278354 -0.60465274 -0.831686\n",
      "  1.46700685 -0.60547278 -1.35429709  1.10588369 -0.43818818 -0.69775173\n",
      " -0.35478549  0.91703635  1.82775405 -1.37381625 -0.99982864 -0.38503645\n",
      "  1.13078258 -0.80252825 -0.54525821  0.35383009 -0.0429788  -0.12296571\n",
      "  1.78607767  0.26744735 -0.4858445   0.39856417  0.69826485  0.34174323\n",
      " -0.26526329  1.11066971 -0.30789918  1.95600127 -0.6092816   1.29570328\n",
      "  0.18387462 -0.30344057  1.42326058 -1.01976613  0.75960962  0.06857121\n",
      " -0.29194574 -1.33142468  2.31330741 -0.18190986 -0.26753112  1.18453407\n",
      " -0.16001689 -0.164354   -0.96285398  1.28826897  3.24896578 -0.379578\n",
      " -1.15203538  1.63504113  0.79600348  1.4786728   1.75724015  1.0971646\n",
      " -0.50522267 -0.89313373 -0.48783796  1.05608846  0.37478405 -0.38926458\n",
      "  1.57781546 -1.67541073  0.94397293 -0.71687627 -0.14474539 -0.53446107\n",
      "  0.7032088   0.56146932 -1.96629619 -0.78085457 -0.15480271 -0.34544965\n",
      "  1.28500912 -0.08964188 -0.46745083  0.25781062  0.26614812  0.69158624\n",
      " -0.21271351  1.0377673   2.80341199  0.80801937 -0.36486649  0.76323535\n",
      "  0.08414793  0.61978821  1.89940275 -1.32293602  0.85265853  0.79144727\n",
      " -1.10288189  0.62728276  0.86662823  0.71319693  0.58792202  0.31531702\n",
      "  0.04044946 -0.45555968 -0.02220912 -0.18414022  0.25065516  1.07739261\n",
      " -0.64378416 -1.05938244  0.7936576  -1.26311907 -1.09547555  0.4603609\n",
      " -2.19312185 -0.91558079  0.29689542 -0.36101503  1.07311289 -0.27757065\n",
      "  1.16301105 -0.38678577 -0.20567288 -2.62034698 -1.57982891 -0.93894864\n",
      "  0.68506727 -1.68453427 -0.76322042 -0.6749125   1.16120919  0.40114616\n",
      " -0.92044258  0.17244506  0.72076191  0.35769037 -1.39574649 -1.97280193\n",
      " -0.12861954 -0.56502134  0.43810221 -1.26729806 -0.36996454  0.5521509\n",
      " -0.04425801 -1.23874227 -1.36949379 -0.49226565  0.80320653  0.19589828\n",
      "  1.08938719  2.25543409 -0.73239634  0.60813938  0.88954197  0.11887782\n",
      "  0.2615205  -0.04866488  0.0166129   2.36480061 -1.2865781  -1.16019506\n",
      " -0.66221971  0.52708774 -0.26820683  0.74085607  1.03609797 -1.61735888\n",
      " -0.03336019  1.28041062 -0.65524911  0.29452205  1.31878224 -0.62871799\n",
      " -0.63050813  2.01517346  0.46393951  0.26206246 -1.34285499 -0.11237185\n",
      "  0.70153241  0.17088378  0.58668693 -0.58205739  0.67098051  0.72575211\n",
      " -0.65531057  1.31439894 -0.97251388 -1.25996369 -0.78892001 -0.36553066\n",
      " -0.39131717 -0.77942414  0.19963224 -0.13987844 -0.26539943  1.07903214\n",
      "  1.84180821 -0.36716908 -1.2046277  -0.84537135 -0.23658384  0.24397259\n",
      " -0.19656831  3.17707938  0.32141525  0.15282695 -0.35839566 -0.16927232\n",
      " -0.12617565 -1.02323177 -1.51489123  0.41767907  1.85453354 -1.4582087\n",
      "  1.47128979 -2.58260657  0.46802639 -0.50940822  0.97965165  0.87647879\n",
      " -0.6165602  -1.17115074 -1.6819844   0.48322103  0.5557607  -0.570156\n",
      "  0.34816846  0.82817947 -0.65088289 -0.30919275  0.45153602  2.55373901\n",
      " -0.95890204 -0.61840149  0.67842763  2.14520438  0.6536852   0.38058557\n",
      " -0.73718968  0.75459176 -0.64011419 -0.75431715  0.80112747 -0.71158894\n",
      "  0.65916929 -0.65149532 -0.80970699 -0.49347783  0.41708402 -0.15111985\n",
      " -0.203252   -1.27467098 -1.08127142 -0.65908757  2.54825249 -0.43138576\n",
      "  1.30561446 -0.21220136 -0.36702126 -0.07692785 -1.02837986  0.28553396\n",
      " -1.91711907  0.62111148  0.26127273  0.71837758 -0.13659917 -0.66750663\n",
      "  0.20884484 -0.92510131 -0.3751267  -2.7796994  -0.75817383  0.12533944\n",
      "  0.45605612  0.27494425 -0.81797549 -0.67211968 -1.46423678  0.74652425\n",
      " -0.51031327 -1.88424404  1.10990238 -1.273496    0.09943606  0.68783856\n",
      "  1.04147426 -0.67196663 -1.62152321  0.08066495  1.7743826   0.70703814\n",
      "  0.19040719 -0.70217158 -0.51108464 -0.7009577   1.35152782 -1.11612767\n",
      " -0.19963868 -0.29434342 -0.7744742   0.32877701 -1.82585726  0.68547796\n",
      "  0.7105777  -0.91772805 -0.73497222 -0.80245907  0.22967066  0.34142061\n",
      " -0.89941329 -1.97759344  0.56588746 -0.52260049 -0.24424799 -0.60892638\n",
      "  1.21822212 -0.67283894 -2.30365935  0.32333593 -0.25778503 -0.81107233\n",
      " -0.43491423  0.43484776  0.96833107 -0.23707087 -1.00365433 -0.01115088\n",
      "  0.23194656 -1.11368486  0.80702003 -0.03309879  1.18308343 -0.21053586\n",
      "  0.48467807  0.82518335 -0.76845782  1.71770573  0.48341966  0.8023995\n",
      " -0.4907128   0.56534828  1.59058118  0.10165429  1.17172093  1.13137207\n",
      "  0.22955945 -0.09844474 -0.68053543  0.2897477   0.68295858 -1.12728519\n",
      " -0.08448626  0.73015234 -1.48183945 -1.09552218 -0.97223997 -1.58441305\n",
      "  0.22634865 -0.56649695  0.26739886 -0.67542007 -0.60631906  0.39171124\n",
      "  1.79181174 -2.39985317 -1.31748315 -1.38203553  0.33392675 -1.46766031\n",
      " -0.93029769  0.62144952 -0.74770851 -0.96973347  0.62416456  0.72388648\n",
      "  0.91596072  0.82453378  0.35643406  0.57695299 -1.62072526 -0.85014115\n",
      "  0.65796331 -0.19029612 -1.73214303 -0.78857567  0.24640277 -0.34676703\n",
      "  0.1459093   1.83487816  0.8901415   1.08774472 -0.17029152  0.59857206\n",
      "  1.3038992  -1.04279229 -0.80042795  0.37639221  0.26045042  0.67162936\n",
      "  0.59888393  0.03394457  0.2281537  -0.65362761  0.77648936 -2.20199256\n",
      "  0.60683062  0.36092857 -0.01355383  0.92349474  0.43139508 -2.28985134\n",
      " -0.23091753 -0.71197681  0.70158803  0.03982486 -0.94022628 -1.05450865\n",
      "  0.40143299 -0.25523317 -1.38530329  0.4100951  -0.44554475  2.03587484\n",
      " -1.09915997 -1.86475921 -1.29714617  0.40464828  0.88830343  0.66012143\n",
      "  0.34509706 -1.46909352 -1.50428617 -1.38499306  1.18581298  0.52345249\n",
      "  0.68861793  1.65426259 -0.91591835 -1.36115611 -0.03969406 -0.0783782\n",
      "  1.01017908  0.2998598   1.43410029 -0.6145773  -1.1612568  -0.27655319\n",
      "  1.33117378 -0.08590341  0.02940483  0.20776079 -2.67189277  1.22650596\n",
      " -0.44777065  1.63495874 -0.24026713 -0.58823899 -0.84564449 -0.3895908\n",
      " -0.26895227  1.15206508  0.112466    1.58596353 -1.58625755  0.55790203\n",
      "  0.13138808  0.08521838 -0.20209153  2.07424112  1.48648671  1.12122172\n",
      "  1.17068889  0.1626861   0.86592032 -0.96900639 -1.06434732 -0.66621067\n",
      " -1.00710361 -0.24881632 -0.19641254 -1.1997582  -0.97750592  1.20611327\n",
      "  0.15758559 -1.42329385 -0.79836693  0.91829553  1.26575789 -0.13114364\n",
      "  0.07051301  0.26533151 -0.77757921 -0.40914027 -0.2575485   0.16584084\n",
      " -0.70204267  0.34079642 -0.88167359 -0.66549175 -0.42882257 -0.95238906\n",
      " -2.77340601 -0.99218035  0.50792329  0.56286863 -1.03523947  1.21925898\n",
      " -0.1851355   0.1989421  -0.17202744 -0.89820423 -0.17270183 -0.60655771\n",
      " -0.90733668 -1.43564338  1.22105931 -0.19507093  1.14685974 -0.92734938\n",
      "  0.62674992  0.63451096 -1.70358422  0.75718335  1.85838208 -0.23104667\n",
      " -1.39899238  0.5254896   1.46976779 -1.14798051 -2.58001993  0.73865808\n",
      "  1.33944251 -0.45913897 -2.33106764 -0.86954356 -0.47058736 -0.64691821\n",
      "  0.86894496 -0.1573355   1.303279    0.91595719 -0.215002    0.96792407\n",
      " -1.39289046  0.66332723  0.84745974 -0.77024271  1.07794692 -0.27313352\n",
      " -0.50480561 -0.85121945 -0.23929981 -2.12334389 -0.0788895  -0.3782698\n",
      " -0.47004722  0.50790567  0.09776615  0.54000563  0.53933653  0.12734799\n",
      " -1.1019632  -1.28102423 -0.93296297 -0.11281934  2.34159922 -0.1468654\n",
      "  0.80789617  0.06865916  1.35043553 -1.70249255  1.17332121  1.0834536\n",
      " -1.40110722  0.75322916  0.63788743  1.05366585  0.20802292 -0.05326521\n",
      " -0.79259282  0.91403698 -0.32349632  1.04142291 -0.21630394 -0.21767148\n",
      "  0.16985311 -0.09042815 -0.58841098  0.65505103 -0.40353477  0.24785005\n",
      " -0.12046348  1.08447437  0.05424652 -0.24075998  0.37473824 -0.17368895\n",
      "  0.439821    1.42050948  1.26617987 -0.64019687 -0.01567033 -0.34609588\n",
      "  0.10763424  1.11766526 -0.11936015 -0.65725118 -0.22590304 -0.28011583\n",
      " -0.68580779  1.85014274  0.43594017 -0.320057   -0.88114038 -2.39444649\n",
      "  0.3859257  -0.39189101 -3.13803651 -1.20064209  1.24778277 -0.4447955\n",
      " -0.64397059  1.10385827 -0.67502799 -0.08451342  0.33197619  2.57416248\n",
      "  0.69948652 -0.54442571  1.59326864  1.10734601  0.48149977 -0.17690877\n",
      " -0.33457603  0.40818383 -1.29421965  0.473233    1.22189235  0.37070804\n",
      " -0.13667244  1.09164699  0.68589418  0.64238162  1.48193374  0.1906279\n",
      " -0.74414167 -0.11908507 -0.73285292  0.6088637   0.26041483  0.22478613\n",
      " -0.17269829 -0.53452812 -0.13682198  0.99534363  1.07345428 -1.54334777\n",
      "  0.94900792  0.43005026  0.15374389  0.34478858  1.2323508   0.23366298\n",
      "  1.32413741 -0.39132418 -2.29565471  0.67072466]\n"
     ]
    },
    {
     "data": {
      "text/plain": [
       "array([-3.13803651, -2.80710391, -2.7796994 , -2.77340601, -2.67437142,\n",
       "       -2.67189277, -2.62034698, -2.58260657, -2.58001993, -2.49806723,\n",
       "       -2.39985317, -2.39444649, -2.33106764, -2.30365935, -2.29565471,\n",
       "       -2.28985134, -2.20199256, -2.19312185, -2.1623957 , -2.13597378,\n",
       "       -2.12334389, -2.08442708, -1.98159624, -1.97811472, -1.97759344,\n",
       "       -1.97280193, -1.96629619, -1.92025539, -1.91711907, -1.91014717,\n",
       "       -1.88424404, -1.86475921, -1.85831245, -1.85749715, -1.85296522,\n",
       "       -1.84354281, -1.8419823 , -1.82585726, -1.81175967, -1.80881534,\n",
       "       -1.73214303, -1.70358422, -1.70249255, -1.68453427, -1.6819844 ,\n",
       "       -1.67541073, -1.65833188, -1.64195242, -1.62152321, -1.62072526,\n",
       "       -1.61735888, -1.58625755, -1.58441305, -1.57982891, -1.55784691,\n",
       "       -1.5533603 , -1.54338728, -1.54334777, -1.52451249, -1.51489123,\n",
       "       -1.50686232, -1.50428617, -1.49642383, -1.48183945, -1.4721316 ,\n",
       "       -1.46909352, -1.46766031, -1.46423678, -1.4582087 , -1.43564338,\n",
       "       -1.43345596, -1.43047714, -1.42901493, -1.42329385, -1.40261362,\n",
       "       -1.40110722, -1.39899238, -1.39574649, -1.39289046, -1.38530329,\n",
       "       -1.38499306, -1.38203553, -1.37827277, -1.37381625, -1.36949379,\n",
       "       -1.36859016, -1.36317692, -1.36115611, -1.35429709, -1.34285499,\n",
       "       -1.33142468, -1.32293602, -1.3215631 , -1.31748315, -1.31654635,\n",
       "       -1.29714617, -1.29441045, -1.29421965, -1.29406181, -1.2865781 ,\n",
       "       -1.28102423, -1.27865982, -1.27661115, -1.27467098, -1.273496  ,\n",
       "       -1.26839991, -1.26729806, -1.26311907, -1.26237203, -1.26172662,\n",
       "       -1.25996369, -1.2548654 , -1.24851598, -1.23874227, -1.23245051,\n",
       "       -1.22278354, -1.21033543, -1.2046277 , -1.20064209, -1.1997582 ,\n",
       "       -1.18825476, -1.17115074, -1.17102147, -1.1612568 , -1.16019506,\n",
       "       -1.15430214, -1.15353282, -1.15280312, -1.15203538, -1.14798051,\n",
       "       -1.13306421, -1.12728519, -1.12636592, -1.11612767, -1.11368486,\n",
       "       -1.10474573, -1.10288189, -1.1019632 , -1.09915997, -1.09552218,\n",
       "       -1.09547555, -1.08641748, -1.08127142, -1.07916099, -1.06987821,\n",
       "       -1.06434732, -1.05938244, -1.05450865, -1.04737031, -1.04279229,\n",
       "       -1.03936997, -1.03523947, -1.02837986, -1.02651425, -1.02323177,\n",
       "       -1.01976613, -1.0120271 , -1.00976826, -1.00897213, -1.00710361,\n",
       "       -1.00580014, -1.00365433, -1.00275905, -1.00213394, -0.99982864,\n",
       "       -0.99311237, -0.99218035, -0.98277922, -0.97750592, -0.97742351,\n",
       "       -0.97251388, -0.97223997, -0.97101252, -0.96973347, -0.96900639,\n",
       "       -0.96285398, -0.95890204, -0.95238906, -0.94735763, -0.94584758,\n",
       "       -0.94022628, -0.93928289, -0.93894864, -0.93296297, -0.93029769,\n",
       "       -0.92734938, -0.92510131, -0.9226819 , -0.92062327, -0.92044258,\n",
       "       -0.91772805, -0.91591835, -0.91558079, -0.90733668, -0.89941329,\n",
       "       -0.89820423, -0.89313373, -0.88809875, -0.88167359, -0.88131926,\n",
       "       -0.88114038, -0.87283664, -0.86954356, -0.85792463, -0.85121945,\n",
       "       -0.85014115, -0.84994046, -0.84564449, -0.84540337, -0.84537135,\n",
       "       -0.83800732, -0.831686  , -0.81797549, -0.8159992 , -0.81107233,\n",
       "       -0.81006326, -0.80970699, -0.80252825, -0.80245907, -0.80042795,\n",
       "       -0.79836693, -0.79259282, -0.78892001, -0.78857567, -0.78085457,\n",
       "       -0.77942414, -0.77880428, -0.77757921, -0.774705  , -0.7744742 ,\n",
       "       -0.77085409, -0.77024271, -0.76845782, -0.76844297, -0.76322042,\n",
       "       -0.75817383, -0.75431715, -0.74770851, -0.74414167, -0.74316365,\n",
       "       -0.73718968, -0.73497222, -0.73285292, -0.73239634, -0.718541  ,\n",
       "       -0.71806856, -0.71687627, -0.71197681, -0.71158894, -0.70217158,\n",
       "       -0.70204267, -0.7009577 , -0.69775173, -0.69238987, -0.69132251,\n",
       "       -0.68580779, -0.68053543, -0.67983002, -0.67571405, -0.67542007,\n",
       "       -0.67502799, -0.6749125 , -0.67283894, -0.67211968, -0.67196663,\n",
       "       -0.66750663, -0.66621067, -0.66549175, -0.66221971, -0.65908757,\n",
       "       -0.65725118, -0.65531057, -0.65524911, -0.65362761, -0.6528281 ,\n",
       "       -0.65204959, -0.65149532, -0.65088289, -0.64691821, -0.64397059,\n",
       "       -0.64378416, -0.64298304, -0.64045672, -0.64019687, -0.64011419,\n",
       "       -0.63050813, -0.62871799, -0.62545355, -0.61840149, -0.6165602 ,\n",
       "       -0.6145773 , -0.61238681, -0.6092816 , -0.60892638, -0.60655771,\n",
       "       -0.60631906, -0.60547278, -0.60465274, -0.60155093, -0.59988626,\n",
       "       -0.58841098, -0.58823899, -0.58205739, -0.57509546, -0.570156  ,\n",
       "       -0.56649695, -0.56502134, -0.56089739, -0.54765056, -0.54525821,\n",
       "       -0.54442571, -0.53606157, -0.53452812, -0.53446107, -0.5335655 ,\n",
       "       -0.53185959, -0.52260049, -0.51152201, -0.51108464, -0.51031327,\n",
       "       -0.50940822, -0.50522267, -0.50480561, -0.50435796, -0.49475714,\n",
       "       -0.49347783, -0.49335474, -0.49226565, -0.4907128 , -0.4888802 ,\n",
       "       -0.48783796, -0.4858445 , -0.47058736, -0.47004722, -0.46745083,\n",
       "       -0.46529352, -0.46314689, -0.46084815, -0.45913897, -0.45555968,\n",
       "       -0.44777065, -0.44554475, -0.4447955 , -0.43818818, -0.43491423,\n",
       "       -0.43138576, -0.42882257, -0.42385319, -0.41789781, -0.41353314,\n",
       "       -0.41234572, -0.40914027, -0.40353477, -0.40123871, -0.40054172,\n",
       "       -0.39547966, -0.39189101, -0.39132418, -0.39131717, -0.3895908 ,\n",
       "       -0.38926458, -0.38678577, -0.38503645, -0.379578  , -0.3782698 ,\n",
       "       -0.3751267 , -0.37033506, -0.36996454, -0.36716908, -0.36702126,\n",
       "       -0.36553066, -0.36486649, -0.36101503, -0.35839566, -0.35478549,\n",
       "       -0.35435192, -0.34920226, -0.34676703, -0.34609588, -0.34544965,\n",
       "       -0.34255943, -0.34096368, -0.33457603, -0.33040241, -0.32349632,\n",
       "       -0.320057  , -0.3176418 , -0.30919275, -0.30789918, -0.30481232,\n",
       "       -0.30424626, -0.30344057, -0.29655722, -0.29540928, -0.29434342,\n",
       "       -0.29194574, -0.29094295, -0.28970119, -0.2878007 , -0.28695   ,\n",
       "       -0.28144278, -0.28011583, -0.27757065, -0.27655319, -0.27313352,\n",
       "       -0.27307726, -0.26895227, -0.26820683, -0.26753112, -0.26539943,\n",
       "       -0.26526329, -0.26416548, -0.25926702, -0.25778503, -0.2575485 ,\n",
       "       -0.25523317, -0.24881632, -0.24424799, -0.24196276, -0.24139293,\n",
       "       -0.24075998, -0.24026713, -0.23929981, -0.23707087, -0.23658384,\n",
       "       -0.23398811, -0.2322204 , -0.23104667, -0.23091753, -0.22935199,\n",
       "       -0.22753729, -0.22590304, -0.22331935, -0.21767148, -0.21630394,\n",
       "       -0.215002  , -0.21271351, -0.21220136, -0.21196829, -0.21053586,\n",
       "       -0.20567288, -0.203252  , -0.20209153, -0.19963868, -0.19656831,\n",
       "       -0.19641254, -0.19507093, -0.19029612, -0.18539976, -0.1851355 ,\n",
       "       -0.18414022, -0.1835281 , -0.18190986, -0.18082395, -0.17690877,\n",
       "       -0.17368895, -0.17270183, -0.17269829, -0.17202744, -0.17144513,\n",
       "       -0.17029152, -0.16927232, -0.164354  , -0.16001689, -0.1573355 ,\n",
       "       -0.15536092, -0.15480271, -0.15190443, -0.15111985, -0.1468654 ,\n",
       "       -0.14474539, -0.13987844, -0.13795475, -0.13682198, -0.13667244,\n",
       "       -0.13659917, -0.1341952 , -0.13114364, -0.12861954, -0.12742632,\n",
       "       -0.12709148, -0.12617565, -0.12297093, -0.12296571, -0.12046348,\n",
       "       -0.11936015, -0.11908507, -0.11281934, -0.11237185, -0.11140395,\n",
       "       -0.11111726, -0.10459529, -0.09860201, -0.09844474, -0.09376444,\n",
       "       -0.09042815, -0.0901599 , -0.08964188, -0.08590341, -0.08451342,\n",
       "       -0.08448626, -0.0788895 , -0.0783782 , -0.07692785, -0.07467562,\n",
       "       -0.06639016, -0.05615196, -0.05326521, -0.05180626, -0.04866488,\n",
       "       -0.04827611, -0.04425801, -0.0429788 , -0.04083531, -0.03969406,\n",
       "       -0.03939383, -0.03552561, -0.03336019, -0.03309879, -0.03135092,\n",
       "       -0.02899022, -0.02607113, -0.02347742, -0.02220912, -0.01567033,\n",
       "       -0.0140781 , -0.01355383, -0.01115088,  0.01015917,  0.01615884,\n",
       "        0.0166129 ,  0.02940483,  0.03394457,  0.03982486,  0.04044946,\n",
       "        0.05424652,  0.06857121,  0.06858079,  0.06865916,  0.07051301,\n",
       "        0.077612  ,  0.08066495,  0.08331108,  0.08414793,  0.08521838,\n",
       "        0.08717617,  0.09776615,  0.09943606,  0.10043446,  0.10165429,\n",
       "        0.10763424,  0.11185956,  0.112466  ,  0.11677616,  0.11887782,\n",
       "        0.12360833,  0.12533944,  0.12587073,  0.12734799,  0.12777558,\n",
       "        0.13138808,  0.13148559,  0.13970391,  0.1459093 ,  0.15282695,\n",
       "        0.15374389,  0.15758559,  0.16173013,  0.1626861 ,  0.16584084,\n",
       "        0.16985311,  0.17088378,  0.17244506,  0.18387462,  0.18437007,\n",
       "        0.18916044,  0.19040719,  0.1906279 ,  0.19262881,  0.19426329,\n",
       "        0.19589828,  0.19759825,  0.1989421 ,  0.19963224,  0.20776079,\n",
       "        0.20802292,  0.20884484,  0.22478613,  0.22513691,  0.22634865,\n",
       "        0.2281537 ,  0.22955945,  0.22967066,  0.23194656,  0.23274555,\n",
       "        0.23366298,  0.23979269,  0.24397259,  0.24640277,  0.24785005,\n",
       "        0.25065516,  0.25399091,  0.25681342,  0.25781062,  0.26041483,\n",
       "        0.26045042,  0.26127273,  0.2615205 ,  0.26206246,  0.26533151,\n",
       "        0.26614812,  0.26665892,  0.26739886,  0.26744735,  0.27494425,\n",
       "        0.28255611,  0.28553396,  0.2897477 ,  0.29070099,  0.29452205,\n",
       "        0.29487126,  0.29689542,  0.2998598 ,  0.30299672,  0.31045077,\n",
       "        0.31531702,  0.32141525,  0.32202131,  0.32333593,  0.32877701,\n",
       "        0.33030363,  0.33197619,  0.33392675,  0.34079642,  0.34142061,\n",
       "        0.34174323,  0.34224509,  0.34478858,  0.34509706,  0.34599761,\n",
       "        0.34816846,  0.35055465,  0.35167287,  0.35383009,  0.3540431 ,\n",
       "        0.35643406,  0.35769037,  0.36092857,  0.36111739,  0.37070804,\n",
       "        0.37473824,  0.37478405,  0.37639221,  0.37800936,  0.38006964,\n",
       "        0.38058557,  0.38391173,  0.3859257 ,  0.39115717,  0.39150417,\n",
       "        0.39162475,  0.39169055,  0.39171124,  0.39792346,  0.39856417,\n",
       "        0.40114616,  0.40143299,  0.40464828,  0.40643167,  0.40663039,\n",
       "        0.40818383,  0.4100951 ,  0.41264868,  0.41708402,  0.41767907,\n",
       "        0.42789624,  0.43005026,  0.43139508,  0.43484776,  0.43594017,\n",
       "        0.43810221,  0.439821  ,  0.44027081,  0.44606686,  0.44884121,\n",
       "        0.45153602,  0.45567978,  0.45568827,  0.45605612,  0.4603609 ,\n",
       "        0.46393951,  0.46802639,  0.46903921,  0.473233  ,  0.48053476,\n",
       "        0.48149977,  0.48255374,  0.48322103,  0.48341966,  0.48467807,\n",
       "        0.49228569,  0.50790567,  0.50792329,  0.50941525,  0.52345249,\n",
       "        0.5254896 ,  0.52708774,  0.5360252 ,  0.53605888,  0.53933653,\n",
       "        0.54000563,  0.5521509 ,  0.55281696,  0.55342176,  0.55508362,\n",
       "        0.5557607 ,  0.55790203,  0.5593217 ,  0.56146932,  0.56252356,\n",
       "        0.56286863,  0.56534828,  0.56588746,  0.5738728 ,  0.57695299,\n",
       "        0.58668693,  0.58792202,  0.59857206,  0.59888393,  0.60281582,\n",
       "        0.60413318,  0.60683062,  0.60813938,  0.6088637 ,  0.61335556,\n",
       "        0.61367629,  0.6188568 ,  0.61978821,  0.62111148,  0.62142354,\n",
       "        0.62144952,  0.62416456,  0.62674992,  0.62728276,  0.63005786,\n",
       "        0.63239172,  0.63451096,  0.63788743,  0.64238162,  0.6536852 ,\n",
       "        0.65505103,  0.65693506,  0.65796331,  0.65916929,  0.66012143,\n",
       "        0.66194825,  0.66332723,  0.66411692,  0.67072466,  0.67098051,\n",
       "        0.67162936,  0.67479559,  0.67842763,  0.68295858,  0.68506727,\n",
       "        0.68547796,  0.68589418,  0.68783856,  0.68861793,  0.68936827,\n",
       "        0.69104073,  0.69158624,  0.69218995,  0.69826485,  0.69948652,\n",
       "        0.70153241,  0.70158803,  0.7032088 ,  0.70703814,  0.7105777 ,\n",
       "        0.71319693,  0.71345359,  0.71712779,  0.71837758,  0.72076191,\n",
       "        0.72388648,  0.72575211,  0.73015234,  0.73325341,  0.73364798,\n",
       "        0.73808037,  0.73865808,  0.74085607,  0.74465974,  0.74652425,\n",
       "        0.75322916,  0.75457947,  0.75459176,  0.75718335,  0.75960962,\n",
       "        0.76323535,  0.77509328,  0.77648936,  0.79144727,  0.7936576 ,\n",
       "        0.79600348,  0.80112747,  0.8023995 ,  0.80320653,  0.80702003,\n",
       "        0.80789617,  0.80801937,  0.8089409 ,  0.81906198,  0.82453378,\n",
       "        0.82518335,  0.82817947,  0.84101945,  0.84745974,  0.84900242,\n",
       "        0.85265853,  0.85390323,  0.85650079,  0.86370367,  0.86592032,\n",
       "        0.86662823,  0.86894496,  0.87389948,  0.87647879,  0.87674487,\n",
       "        0.88401667,  0.88830343,  0.88954197,  0.8901415 ,  0.91403698,\n",
       "        0.91586509,  0.91595719,  0.91596072,  0.91703635,  0.91806185,\n",
       "        0.91829553,  0.92349474,  0.93366191,  0.94397293,  0.94900792,\n",
       "        0.96792407,  0.96833107,  0.96869401,  0.97965165,  0.99534363,\n",
       "        0.99926876,  1.00005268,  1.00476015,  1.01017908,  1.02488755,\n",
       "        1.0353802 ,  1.03609797,  1.0377673 ,  1.04142291,  1.04147426,\n",
       "        1.05276686,  1.05366585,  1.05608846,  1.0695761 ,  1.07311289,\n",
       "        1.07345428,  1.07739261,  1.07749973,  1.07794692,  1.07903214,\n",
       "        1.0834536 ,  1.08447437,  1.08774472,  1.08938719,  1.09164699,\n",
       "        1.0971646 ,  1.10385827,  1.10588369,  1.10734601,  1.10959266,\n",
       "        1.10990238,  1.11066971,  1.11766526,  1.12122172,  1.12624835,\n",
       "        1.12910203,  1.13078258,  1.13137207,  1.14188713,  1.14685974,\n",
       "        1.15206508,  1.16120919,  1.16301105,  1.17068889,  1.17172093,\n",
       "        1.17332121,  1.17457387,  1.1750657 ,  1.18308343,  1.18453407,\n",
       "        1.18581298,  1.19009579,  1.20379903,  1.20611327,  1.21822212,\n",
       "        1.21925898,  1.22093949,  1.22105931,  1.22189235,  1.22461458,\n",
       "        1.22650596,  1.2323508 ,  1.24778277,  1.2620023 ,  1.26575789,\n",
       "        1.26617987,  1.27063924,  1.28041062,  1.28500912,  1.28826897,\n",
       "        1.29570328,  1.30074293,  1.303279  ,  1.3038992 ,  1.30561446,\n",
       "        1.31439894,  1.31878224,  1.32413741,  1.33117378,  1.33944251,\n",
       "        1.34872403,  1.35043553,  1.35152782,  1.36218609,  1.40624894,\n",
       "        1.41345276,  1.41698114,  1.42050948,  1.42326058,  1.43058654,\n",
       "        1.43410029,  1.44001316,  1.46700685,  1.46976779,  1.47128979,\n",
       "        1.4786728 ,  1.48193374,  1.48648671,  1.49387641,  1.51099151,\n",
       "        1.56727861,  1.57781546,  1.58596353,  1.59058118,  1.59326864,\n",
       "        1.61463071,  1.62956636,  1.63495874,  1.63504113,  1.65426259,\n",
       "        1.71383244,  1.71770573,  1.73001618,  1.74160354,  1.75724015,\n",
       "        1.7743826 ,  1.78607767,  1.79181174,  1.80482627,  1.81161533,\n",
       "        1.82775405,  1.83487816,  1.84180821,  1.85014274,  1.85453354,\n",
       "        1.85838208,  1.8780464 ,  1.8924815 ,  1.89940275,  1.95600127,\n",
       "        1.98084096,  2.01517346,  2.03587484,  2.07424112,  2.10484206,\n",
       "        2.11583861,  2.14520438,  2.25543409,  2.280121  ,  2.31330741,\n",
       "        2.34159922,  2.36480061,  2.39729913,  2.54825249,  2.55373901,\n",
       "        2.57416248,  2.72397176,  2.80341199,  3.17707938,  3.24896578])"
      ]
     },
     "execution_count": 14,
     "metadata": {},
     "output_type": "execute_result"
    }
   ],
   "source": [
    "large_arr = np.random.randn(1000)\n",
    "print(large_arr)\n",
    "large_arr.sort()\n",
    "large_arr"
   ]
  },
  {
   "cell_type": "code",
   "execution_count": 15,
   "metadata": {},
   "outputs": [
    {
     "data": {
      "text/plain": [
       "-1.6173588842725557"
      ]
     },
     "execution_count": 15,
     "metadata": {},
     "output_type": "execute_result"
    }
   ],
   "source": [
    "large_arr[int(0.05 * len(large_arr))] # 5% 分位数"
   ]
  },
  {
   "cell_type": "code",
   "execution_count": 17,
   "metadata": {},
   "outputs": [
    {
     "data": {
      "text/plain": [
       "-0.41234571605706954"
      ]
     },
     "execution_count": 17,
     "metadata": {},
     "output_type": "execute_result"
    }
   ],
   "source": [
    "large_arr[int(0.35 * len(large_arr))] # 35% 分位数"
   ]
  },
  {
   "cell_type": "code",
   "execution_count": 16,
   "metadata": {},
   "outputs": [
    {
     "data": {
      "text/plain": [
       "0.655051028752954"
      ]
     },
     "execution_count": 16,
     "metadata": {},
     "output_type": "execute_result"
    }
   ],
   "source": [
    "large_arr[int(0.75 * len(large_arr))] # 75% 分位数"
   ]
  },
  {
   "cell_type": "markdown",
   "metadata": {},
   "source": [
    "###### 唯一化 及 其它的 集合逻辑"
   ]
  },
  {
   "cell_type": "code",
   "execution_count": 18,
   "metadata": {},
   "outputs": [
    {
     "name": "stdout",
     "output_type": "stream",
     "text": [
      "['Bob' 'Joe' 'Will' 'Bob' 'Will' 'Joe' 'Joe']\n"
     ]
    },
    {
     "data": {
      "text/plain": [
       "array(['Bob', 'Joe', 'Will'], dtype='<U4')"
      ]
     },
     "execution_count": 18,
     "metadata": {},
     "output_type": "execute_result"
    }
   ],
   "source": [
    "names = np.array(['Bob', 'Joe', 'Will', 'Bob', 'Will', 'Joe', 'Joe'])\n",
    "print(names)\n",
    "np.unique(names)"
   ]
  },
  {
   "cell_type": "markdown",
   "metadata": {},
   "source": [
    "**np.unique**用于找出数组中的唯一值并返回已排序的结果"
   ]
  },
  {
   "cell_type": "code",
   "execution_count": 19,
   "metadata": {},
   "outputs": [
    {
     "data": {
      "text/plain": [
       "array([1, 2, 3, 4])"
      ]
     },
     "execution_count": 19,
     "metadata": {},
     "output_type": "execute_result"
    }
   ],
   "source": [
    "ints = np.array([3, 3, 3, 2, 2, 1, 1, 4, 4])\n",
    "np.unique(ints)"
   ]
  },
  {
   "cell_type": "code",
   "execution_count": 20,
   "metadata": {},
   "outputs": [
    {
     "data": {
      "text/plain": [
       "['Bob', 'Joe', 'Will']"
      ]
     },
     "execution_count": 20,
     "metadata": {},
     "output_type": "execute_result"
    }
   ],
   "source": [
    "sorted(set(names))"
   ]
  },
  {
   "cell_type": "markdown",
   "metadata": {},
   "source": [
    "函数**np.in1d**用于测试一个数组中的值在另一个数组中的成员资格"
   ]
  },
  {
   "cell_type": "code",
   "execution_count": 21,
   "metadata": {},
   "outputs": [
    {
     "name": "stdout",
     "output_type": "stream",
     "text": [
      "[6 0 0 3 2 5 6]\n"
     ]
    },
    {
     "data": {
      "text/plain": [
       "array([ True, False, False,  True,  True, False,  True])"
      ]
     },
     "execution_count": 21,
     "metadata": {},
     "output_type": "execute_result"
    }
   ],
   "source": [
    "values = np.array([6, 0, 0, 3, 2, 5, 6])\n",
    "print(values)\n",
    "np.in1d(values, [2, 3, 6])"
   ]
  },
  {
   "cell_type": "markdown",
   "metadata": {},
   "source": [
    "<!--NUMPY_SET-->\n",
    "<img align=\"center\" style=\"padding-right:10px;\" src=\"NUMPY_SET.png\">"
   ]
  },
  {
   "cell_type": "markdown",
   "metadata": {},
   "source": [
    "### 2.4 用于数组的文件输入输出"
   ]
  },
  {
   "cell_type": "code",
   "execution_count": 22,
   "metadata": {},
   "outputs": [],
   "source": [
    "arr = np.arange(10)\n",
    "np.save('some_array', arr)"
   ]
  },
  {
   "cell_type": "code",
   "execution_count": 23,
   "metadata": {},
   "outputs": [
    {
     "data": {
      "text/plain": [
       "array([0, 1, 2, 3, 4, 5, 6, 7, 8, 9])"
      ]
     },
     "execution_count": 23,
     "metadata": {},
     "output_type": "execute_result"
    }
   ],
   "source": [
    "np.load('some_array.npy')"
   ]
  },
  {
   "cell_type": "code",
   "execution_count": 24,
   "metadata": {},
   "outputs": [],
   "source": [
    "np.savez('array_archive.npz', a=arr, b=arr)"
   ]
  },
  {
   "cell_type": "code",
   "execution_count": 25,
   "metadata": {},
   "outputs": [
    {
     "data": {
      "text/plain": [
       "array([0, 1, 2, 3, 4, 5, 6, 7, 8, 9])"
      ]
     },
     "execution_count": 25,
     "metadata": {},
     "output_type": "execute_result"
    }
   ],
   "source": [
    "arch = np.load('array_archive.npz')\n",
    "arch['b']"
   ]
  },
  {
   "cell_type": "code",
   "execution_count": 26,
   "metadata": {},
   "outputs": [],
   "source": [
    "np.savez_compressed('arrays_compressed.npz', a=arr, b=arr)"
   ]
  },
  {
   "cell_type": "code",
   "execution_count": 28,
   "metadata": {},
   "outputs": [],
   "source": [
    "# !rm some_array.npy\n",
    "# !rm array_archive.npz\n",
    "# !rm arrays_compressed.npz"
   ]
  },
  {
   "cell_type": "markdown",
   "metadata": {},
   "source": [
    "### 2.5 线性代数"
   ]
  },
  {
   "cell_type": "code",
   "execution_count": 29,
   "metadata": {},
   "outputs": [
    {
     "name": "stdout",
     "output_type": "stream",
     "text": [
      "[[1. 2. 3.]\n",
      " [4. 5. 6.]]\n",
      "[[ 6. 23.]\n",
      " [-1.  7.]\n",
      " [ 8.  9.]]\n"
     ]
    },
    {
     "data": {
      "text/plain": [
       "array([[ 28.,  64.],\n",
       "       [ 67., 181.]])"
      ]
     },
     "execution_count": 29,
     "metadata": {},
     "output_type": "execute_result"
    }
   ],
   "source": [
    "x = np.array([[1., 2., 3.], [4., 5., 6.]])\n",
    "y = np.array([[6., 23.], [-1, 7], [8, 9]])\n",
    "print(x)\n",
    "print(y)\n",
    "x.dot(y)"
   ]
  },
  {
   "cell_type": "code",
   "execution_count": 30,
   "metadata": {},
   "outputs": [
    {
     "data": {
      "text/plain": [
       "array([[ 28.,  64.],\n",
       "       [ 67., 181.]])"
      ]
     },
     "execution_count": 30,
     "metadata": {},
     "output_type": "execute_result"
    }
   ],
   "source": [
    "np.dot(x, y)"
   ]
  },
  {
   "cell_type": "code",
   "execution_count": 31,
   "metadata": {},
   "outputs": [
    {
     "data": {
      "text/plain": [
       "array([ 6., 15.])"
      ]
     },
     "execution_count": 31,
     "metadata": {},
     "output_type": "execute_result"
    }
   ],
   "source": [
    "np.dot(x, np.ones(3))"
   ]
  },
  {
   "cell_type": "code",
   "execution_count": 32,
   "metadata": {},
   "outputs": [
    {
     "data": {
      "text/plain": [
       "array([1., 1., 1.])"
      ]
     },
     "execution_count": 32,
     "metadata": {},
     "output_type": "execute_result"
    }
   ],
   "source": [
    " np.ones(3)"
   ]
  },
  {
   "cell_type": "code",
   "execution_count": 33,
   "metadata": {},
   "outputs": [
    {
     "data": {
      "text/plain": [
       "array([ 6., 15.])"
      ]
     },
     "execution_count": 33,
     "metadata": {},
     "output_type": "execute_result"
    }
   ],
   "source": [
    "x @ np.ones(3) # @ 中缀运算符 进行矩阵乘法"
   ]
  },
  {
   "cell_type": "code",
   "execution_count": 34,
   "metadata": {},
   "outputs": [],
   "source": [
    "from numpy.linalg import inv, qr\n",
    "X = np.random.randn(5, 5)\n",
    "mat = X.T.dot(X)"
   ]
  },
  {
   "cell_type": "code",
   "execution_count": 35,
   "metadata": {},
   "outputs": [
    {
     "data": {
      "text/plain": [
       "array([[-7.18857014,  1.51744101, -3.36818567,  5.64700672,  0.33570356],\n",
       "       [ 0.        , -9.32325378,  1.86963489,  1.90370979,  3.08418843],\n",
       "       [ 0.        ,  0.        , -6.30084429,  1.62721652,  3.34232185],\n",
       "       [ 0.        ,  0.        ,  0.        , -1.96924485, -1.1571492 ],\n",
       "       [ 0.        ,  0.        ,  0.        ,  0.        ,  0.24165622]])"
      ]
     },
     "execution_count": 35,
     "metadata": {},
     "output_type": "execute_result"
    }
   ],
   "source": [
    "inv(mat) # 计算方阵的逆\n",
    "mat.dot(inv(mat))\n",
    "q, r = qr(mat) # QR分解\n",
    "r"
   ]
  },
  {
   "cell_type": "markdown",
   "metadata": {},
   "source": [
    "<!--NUMPY_LINALG-->\n",
    "<img align=\"center\" style=\"padding-right:10px;\" src=\"NUMPY_linalg.png\">"
   ]
  },
  {
   "cell_type": "markdown",
   "metadata": {},
   "source": [
    "### 2.6 伪随机数生成"
   ]
  },
  {
   "cell_type": "code",
   "execution_count": 36,
   "metadata": {},
   "outputs": [
    {
     "data": {
      "text/plain": [
       "array([[ 0.31447062,  0.01584474, -0.83102669,  0.22346759],\n",
       "       [-0.87591982, -0.96061936, -0.88310545, -0.75837245],\n",
       "       [ 0.61413226, -1.72611569,  0.39722562,  1.33450716],\n",
       "       [ 1.0840758 , -0.08073423,  1.02737035, -0.08986563]])"
      ]
     },
     "execution_count": 36,
     "metadata": {},
     "output_type": "execute_result"
    }
   ],
   "source": [
    "samples = np.random.normal(size=(4, 4)) # 4*4的标准正态分布\n",
    "samples"
   ]
  },
  {
   "cell_type": "code",
   "execution_count": 37,
   "metadata": {},
   "outputs": [
    {
     "name": "stdout",
     "output_type": "stream",
     "text": [
      "2.11 s ± 77.5 ms per loop (mean ± std. dev. of 7 runs, 1 loop each)\n",
      "85.7 ms ± 3.31 ms per loop (mean ± std. dev. of 7 runs, 10 loops each)\n"
     ]
    }
   ],
   "source": [
    "from random import normalvariate\n",
    "N = 1000000\n",
    "%timeit samples = [normalvariate(0, 1) for _ in range(N)]\n",
    "%timeit np.random.normal(size=N)"
   ]
  },
  {
   "cell_type": "code",
   "execution_count": null,
   "metadata": {},
   "outputs": [],
   "source": [
    "np.random.seed(2019)# 用NumPy的np.random.seed更改随机数生成种子"
   ]
  },
  {
   "cell_type": "code",
   "execution_count": 38,
   "metadata": {},
   "outputs": [
    {
     "data": {
      "text/plain": [
       "array([-0.21767896,  0.82145535,  1.48127781,  1.33186404, -0.36186537,\n",
       "        0.68560883,  0.57376143,  0.28772767, -0.23563426,  0.95349024])"
      ]
     },
     "execution_count": 38,
     "metadata": {},
     "output_type": "execute_result"
    }
   ],
   "source": [
    "rng = np.random.RandomState(2019)\n",
    "rng.randn(10)"
   ]
  },
  {
   "cell_type": "markdown",
   "metadata": {},
   "source": [
    "<!--NUMPY_RANDOM-->\n",
    "<img align=\"center\" style=\"padding-right:10px;\" src=\"NUMPY_RANDOM.png\">"
   ]
  },
  {
   "cell_type": "markdown",
   "metadata": {},
   "source": [
    "### 2.7 随机漫步"
   ]
  },
  {
   "cell_type": "markdown",
   "metadata": {},
   "source": [
    "##### 通过随机漫步来说明如何运用数组运算\n",
    "\n",
    "- 随机漫步实例：\n",
    "从**0**开始，**步长1** 和 **-1** 出现的概率相等\n",
    "\n",
    "- 通过内置的**random**模块以**纯Python**的方式实现1000步的**随机漫步**"
   ]
  },
  {
   "cell_type": "code",
   "execution_count": 43,
   "metadata": {},
   "outputs": [],
   "source": [
    "import numpy as np\n",
    "np.random.seed(2019)\n",
    "import matplotlib.pyplot as plt\n",
    "plt.rc('figure', figsize=(10, 6))\n",
    "np.set_printoptions(precision=4, suppress=True)"
   ]
  },
  {
   "cell_type": "code",
   "execution_count": 55,
   "metadata": {},
   "outputs": [],
   "source": [
    "import random\n",
    "position = 0\n",
    "walk = [position]\n",
    "steps = 1000\n",
    "for i in range(steps):\n",
    "    step = 1 if random.randint(0, 1) else -1\n",
    "    position += step\n",
    "    walk.append(position)"
   ]
  },
  {
   "cell_type": "code",
   "execution_count": 56,
   "metadata": {},
   "outputs": [
    {
     "data": {
      "text/plain": [
       "<matplotlib.figure.Figure at 0x10d22c88>"
      ]
     },
     "execution_count": 56,
     "metadata": {},
     "output_type": "execute_result"
    },
    {
     "data": {
      "text/plain": [
       "<matplotlib.figure.Figure at 0x10d22c88>"
      ]
     },
     "metadata": {},
     "output_type": "display_data"
    }
   ],
   "source": [
    "plt.figure()"
   ]
  },
  {
   "cell_type": "code",
   "execution_count": 57,
   "metadata": {},
   "outputs": [
    {
     "data": {
      "text/plain": [
       "[<matplotlib.lines.Line2D at 0x10daaac8>]"
      ]
     },
     "execution_count": 57,
     "metadata": {},
     "output_type": "execute_result"
    },
    {
     "data": {
      "image/png": "[encoded data removed]",
      "text/plain": [
       "<matplotlib.figure.Figure at 0x7555588>"
      ]
     },
     "metadata": {},
     "output_type": "display_data"
    }
   ],
   "source": [
    "plt.plot(walk[:100])"
   ]
  },
  {
   "cell_type": "code",
   "execution_count": 54,
   "metadata": {},
   "outputs": [],
   "source": [
    "np.random.seed(12345)"
   ]
  },
  {
   "cell_type": "code",
   "execution_count": 58,
   "metadata": {},
   "outputs": [],
   "source": [
    "nsteps = 1000\n",
    "draws = np.random.randint(0, 2, size=nsteps)\n",
    "steps = np.where(draws > 0, 1, -1)\n",
    "walk = steps.cumsum()"
   ]
  },
  {
   "cell_type": "code",
   "execution_count": 59,
   "metadata": {},
   "outputs": [
    {
     "data": {
      "text/plain": [
       "-3"
      ]
     },
     "execution_count": 59,
     "metadata": {},
     "output_type": "execute_result"
    }
   ],
   "source": [
    "walk.min()"
   ]
  },
  {
   "cell_type": "code",
   "execution_count": 60,
   "metadata": {},
   "outputs": [
    {
     "data": {
      "text/plain": [
       "31"
      ]
     },
     "execution_count": 60,
     "metadata": {},
     "output_type": "execute_result"
    }
   ],
   "source": [
    "walk.max()"
   ]
  },
  {
   "cell_type": "code",
   "execution_count": 61,
   "metadata": {},
   "outputs": [
    {
     "data": {
      "text/plain": [
       "37"
      ]
     },
     "execution_count": 61,
     "metadata": {},
     "output_type": "execute_result"
    }
   ],
   "source": [
    "(np.abs(walk) >= 10).argmax()"
   ]
  },
  {
   "cell_type": "markdown",
   "metadata": {},
   "source": [
    "###### 一次模拟多个随机漫步"
   ]
  },
  {
   "cell_type": "code",
   "execution_count": 62,
   "metadata": {},
   "outputs": [
    {
     "data": {
      "text/plain": [
       "array([[  1,   0,   1, ...,   8,   7,   8],\n",
       "       [  1,   0,  -1, ...,  34,  33,  32],\n",
       "       [  1,   0,  -1, ...,   4,   5,   4],\n",
       "       ...,\n",
       "       [  1,   2,   1, ...,  24,  25,  26],\n",
       "       [  1,   2,   3, ...,  14,  13,  14],\n",
       "       [ -1,  -2,  -3, ..., -24, -23, -22]], dtype=int32)"
      ]
     },
     "execution_count": 62,
     "metadata": {},
     "output_type": "execute_result"
    }
   ],
   "source": [
    "nwalks = 5000\n",
    "nsteps = 1000\n",
    "draws = np.random.randint(0, 2, size=(nwalks, nsteps)) # 0 or 1\n",
    "steps = np.where(draws > 0, 1, -1)\n",
    "walks = steps.cumsum(1)\n",
    "walks"
   ]
  },
  {
   "cell_type": "code",
   "execution_count": 63,
   "metadata": {},
   "outputs": [
    {
     "data": {
      "text/plain": [
       "138"
      ]
     },
     "execution_count": 63,
     "metadata": {},
     "output_type": "execute_result"
    }
   ],
   "source": [
    "walks.max()"
   ]
  },
  {
   "cell_type": "code",
   "execution_count": 64,
   "metadata": {},
   "outputs": [
    {
     "data": {
      "text/plain": [
       "-133"
      ]
     },
     "execution_count": 64,
     "metadata": {},
     "output_type": "execute_result"
    }
   ],
   "source": [
    "walks.min()"
   ]
  },
  {
   "cell_type": "code",
   "execution_count": 65,
   "metadata": {},
   "outputs": [],
   "source": [
    "hits30 = (np.abs(walks) >= 30).any(1)"
   ]
  },
  {
   "cell_type": "code",
   "execution_count": 66,
   "metadata": {},
   "outputs": [
    {
     "data": {
      "text/plain": [
       "array([False,  True, False, ..., False,  True, False])"
      ]
     },
     "execution_count": 66,
     "metadata": {},
     "output_type": "execute_result"
    }
   ],
   "source": [
    "hits30"
   ]
  },
  {
   "cell_type": "code",
   "execution_count": 67,
   "metadata": {},
   "outputs": [
    {
     "data": {
      "text/plain": [
       "3410"
      ]
     },
     "execution_count": 67,
     "metadata": {},
     "output_type": "execute_result"
    }
   ],
   "source": [
    "hits30.sum() "
   ]
  },
  {
   "cell_type": "code",
   "execution_count": 68,
   "metadata": {},
   "outputs": [],
   "source": [
    "crossing_times = (np.abs(walks[hits30]) >= 30).argmax(1)"
   ]
  },
  {
   "cell_type": "code",
   "execution_count": 69,
   "metadata": {},
   "outputs": [
    {
     "data": {
      "text/plain": [
       "array([735, 409, 253, ..., 327, 453, 447], dtype=int64)"
      ]
     },
     "execution_count": 69,
     "metadata": {},
     "output_type": "execute_result"
    }
   ],
   "source": [
    "crossing_times"
   ]
  },
  {
   "cell_type": "code",
   "execution_count": 70,
   "metadata": {},
   "outputs": [
    {
     "data": {
      "text/plain": [
       "498.8897360703812"
      ]
     },
     "execution_count": 70,
     "metadata": {},
     "output_type": "execute_result"
    }
   ],
   "source": [
    "crossing_times.mean()"
   ]
  },
  {
   "cell_type": "code",
   "execution_count": 71,
   "metadata": {},
   "outputs": [],
   "source": [
    "steps = np.random.normal(loc = 0, scale = 0.25, size = (nwalks, nsteps))"
   ]
  },
  {
   "cell_type": "code",
   "execution_count": 72,
   "metadata": {},
   "outputs": [
    {
     "data": {
      "text/plain": [
       "array([[-0.0257,  0.3631,  0.4172, ...,  0.1573, -0.1626,  0.0542],\n",
       "       [-0.1046,  0.0788,  0.1911, ...,  0.0768, -0.1855,  0.0333],\n",
       "       [-0.1673,  0.1203, -0.3043, ..., -0.3098, -0.1729,  0.0277],\n",
       "       ...,\n",
       "       [ 0.2799,  0.0548, -0.0217, ...,  0.028 ,  0.2527,  0.0651],\n",
       "       [ 0.3185, -0.1511, -0.1121, ...,  0.1471,  0.1821, -0.0247],\n",
       "       [-0.131 , -0.2401, -0.0393, ..., -0.1832, -0.2097,  0.2071]])"
      ]
     },
     "execution_count": 72,
     "metadata": {},
     "output_type": "execute_result"
    }
   ],
   "source": [
    "steps"
   ]
  },
  {
   "cell_type": "markdown",
   "metadata": {},
   "source": [
    "### Discussion"
   ]
  },
  {
   "cell_type": "markdown",
   "metadata": {},
   "source": [
    "- 理解**Transpose**方法 和 **Swapaxes**方法\n",
    "- **cumsum** 累加和操作 和 **cumprod** 累积和操作\n",
    "- 理解**切片索引**操作"
   ]
  },
  {
   "cell_type": "markdown",
   "metadata": {},
   "source": [
    "### Summary"
   ]
  },
  {
   "cell_type": "markdown",
   "metadata": {},
   "source": [
    "- **Numpy** 基础操作\n",
    "- **数组** 及 **矢量** 运算\n",
    "- **Numpy** 进阶"
   ]
  },
  {
   "cell_type": "markdown",
   "metadata": {},
   "source": [
    "### Conference"
   ]
  },
  {
   "cell_type": "markdown",
   "metadata": {},
   "source": [
    "- **[Github: Python for Data Analysis: Data Wrangling with Pandas, Numpy, and IPython](https://github.com/JRXGUGI/python_data_analysis_and_mining_action)**\n",
    "- **[Github: 利用Python进行数据分析 第二版 译文](https://github.com/BrambleXu/pydata-notebook)**"
   ]
  },
  {
   "cell_type": "code",
   "execution_count": null,
   "metadata": {},
   "outputs": [],
   "source": []
  }
 ],
 "metadata": {
  "kernelspec": {
   "display_name": "Python 3",
   "language": "python",
   "name": "python3"
  },
  "language_info": {
   "codemirror_mode": {
    "name": "ipython",
    "version": 3
   },
   "file_extension": ".py",
   "mimetype": "text/x-python",
   "name": "python",
   "nbconvert_exporter": "python",
   "pygments_lexer": "ipython3",
   "version": "3.6.4"
  }
 },
 "nbformat": 4,
 "nbformat_minor": 2
}
